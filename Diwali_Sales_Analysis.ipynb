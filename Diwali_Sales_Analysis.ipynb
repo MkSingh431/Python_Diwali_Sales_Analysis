{
 "cells": [
  {
   "cell_type": "code",
   "execution_count": 33,
   "id": "0979edbb",
   "metadata": {},
   "outputs": [],
   "source": [
    "# import python libraries\n",
    "\n",
    "import numpy as np \n",
    "import pandas as pd \n",
    "import matplotlib.pyplot as plt # visualizing data\n",
    "%matplotlib inline\n",
    "import seaborn as sns\n",
    "from warnings import filterwarnings\n",
    "filterwarnings('ignore')"
   ]
  },
  {
   "cell_type": "code",
   "execution_count": 34,
   "id": "7fbfb436",
   "metadata": {},
   "outputs": [],
   "source": [
    "# import csv file\n",
    "df = pd.read_csv('Diwali Sales Data.csv', encoding= 'unicode_escape')"
   ]
  },
  {
   "cell_type": "code",
   "execution_count": 35,
   "id": "b8db4a5b",
   "metadata": {},
   "outputs": [
    {
     "data": {
      "text/plain": [
       "(11251, 15)"
      ]
     },
     "execution_count": 35,
     "metadata": {},
     "output_type": "execute_result"
    }
   ],
   "source": [
    "df.shape"
   ]
  },
  {
   "cell_type": "code",
   "execution_count": 36,
   "id": "662c471c",
   "metadata": {},
   "outputs": [
    {
     "data": {
      "application/vnd.microsoft.datawrangler.viewer.v0+json": {
       "columns": [
        {
         "name": "index",
         "rawType": "int64",
         "type": "integer"
        },
        {
         "name": "User_ID",
         "rawType": "int64",
         "type": "integer"
        },
        {
         "name": "Cust_name",
         "rawType": "object",
         "type": "string"
        },
        {
         "name": "Product_ID",
         "rawType": "object",
         "type": "string"
        },
        {
         "name": "Gender",
         "rawType": "object",
         "type": "string"
        },
        {
         "name": "Age Group",
         "rawType": "object",
         "type": "string"
        },
        {
         "name": "Age",
         "rawType": "int64",
         "type": "integer"
        },
        {
         "name": "Marital_Status",
         "rawType": "int64",
         "type": "integer"
        },
        {
         "name": "State",
         "rawType": "object",
         "type": "string"
        },
        {
         "name": "Zone",
         "rawType": "object",
         "type": "string"
        },
        {
         "name": "Occupation",
         "rawType": "object",
         "type": "string"
        },
        {
         "name": "Product_Category",
         "rawType": "object",
         "type": "string"
        },
        {
         "name": "Orders",
         "rawType": "int64",
         "type": "integer"
        },
        {
         "name": "Amount",
         "rawType": "float64",
         "type": "float"
        },
        {
         "name": "Status",
         "rawType": "float64",
         "type": "float"
        },
        {
         "name": "unnamed1",
         "rawType": "float64",
         "type": "float"
        }
       ],
       "ref": "7a2c9625-910f-4e19-a3dd-603491e83a92",
       "rows": [
        [
         "0",
         "1002903",
         "Sanskriti",
         "P00125942",
         "F",
         "26-35",
         "28",
         "0",
         "Maharashtra",
         "Western",
         "Healthcare",
         "Auto",
         "1",
         "23952.0",
         null,
         null
        ],
        [
         "1",
         "1000732",
         "Kartik",
         "P00110942",
         "F",
         "26-35",
         "35",
         "1",
         "Andhra Pradesh",
         "Southern",
         "Govt",
         "Auto",
         "3",
         "23934.0",
         null,
         null
        ],
        [
         "2",
         "1001990",
         "Bindu",
         "P00118542",
         "F",
         "26-35",
         "35",
         "1",
         "Uttar Pradesh",
         "Central",
         "Automobile",
         "Auto",
         "3",
         "23924.0",
         null,
         null
        ],
        [
         "3",
         "1001425",
         "Sudevi",
         "P00237842",
         "M",
         "0-17",
         "16",
         "0",
         "Karnataka",
         "Southern",
         "Construction",
         "Auto",
         "2",
         "23912.0",
         null,
         null
        ],
        [
         "4",
         "1000588",
         "Joni",
         "P00057942",
         "M",
         "26-35",
         "28",
         "1",
         "Gujarat",
         "Western",
         "Food Processing",
         "Auto",
         "2",
         "23877.0",
         null,
         null
        ]
       ],
       "shape": {
        "columns": 15,
        "rows": 5
       }
      },
      "text/html": [
       "<div>\n",
       "<style scoped>\n",
       "    .dataframe tbody tr th:only-of-type {\n",
       "        vertical-align: middle;\n",
       "    }\n",
       "\n",
       "    .dataframe tbody tr th {\n",
       "        vertical-align: top;\n",
       "    }\n",
       "\n",
       "    .dataframe thead th {\n",
       "        text-align: right;\n",
       "    }\n",
       "</style>\n",
       "<table border=\"1\" class=\"dataframe\">\n",
       "  <thead>\n",
       "    <tr style=\"text-align: right;\">\n",
       "      <th></th>\n",
       "      <th>User_ID</th>\n",
       "      <th>Cust_name</th>\n",
       "      <th>Product_ID</th>\n",
       "      <th>Gender</th>\n",
       "      <th>Age Group</th>\n",
       "      <th>Age</th>\n",
       "      <th>Marital_Status</th>\n",
       "      <th>State</th>\n",
       "      <th>Zone</th>\n",
       "      <th>Occupation</th>\n",
       "      <th>Product_Category</th>\n",
       "      <th>Orders</th>\n",
       "      <th>Amount</th>\n",
       "      <th>Status</th>\n",
       "      <th>unnamed1</th>\n",
       "    </tr>\n",
       "  </thead>\n",
       "  <tbody>\n",
       "    <tr>\n",
       "      <th>0</th>\n",
       "      <td>1002903</td>\n",
       "      <td>Sanskriti</td>\n",
       "      <td>P00125942</td>\n",
       "      <td>F</td>\n",
       "      <td>26-35</td>\n",
       "      <td>28</td>\n",
       "      <td>0</td>\n",
       "      <td>Maharashtra</td>\n",
       "      <td>Western</td>\n",
       "      <td>Healthcare</td>\n",
       "      <td>Auto</td>\n",
       "      <td>1</td>\n",
       "      <td>23952.0</td>\n",
       "      <td>NaN</td>\n",
       "      <td>NaN</td>\n",
       "    </tr>\n",
       "    <tr>\n",
       "      <th>1</th>\n",
       "      <td>1000732</td>\n",
       "      <td>Kartik</td>\n",
       "      <td>P00110942</td>\n",
       "      <td>F</td>\n",
       "      <td>26-35</td>\n",
       "      <td>35</td>\n",
       "      <td>1</td>\n",
       "      <td>Andhra Pradesh</td>\n",
       "      <td>Southern</td>\n",
       "      <td>Govt</td>\n",
       "      <td>Auto</td>\n",
       "      <td>3</td>\n",
       "      <td>23934.0</td>\n",
       "      <td>NaN</td>\n",
       "      <td>NaN</td>\n",
       "    </tr>\n",
       "    <tr>\n",
       "      <th>2</th>\n",
       "      <td>1001990</td>\n",
       "      <td>Bindu</td>\n",
       "      <td>P00118542</td>\n",
       "      <td>F</td>\n",
       "      <td>26-35</td>\n",
       "      <td>35</td>\n",
       "      <td>1</td>\n",
       "      <td>Uttar Pradesh</td>\n",
       "      <td>Central</td>\n",
       "      <td>Automobile</td>\n",
       "      <td>Auto</td>\n",
       "      <td>3</td>\n",
       "      <td>23924.0</td>\n",
       "      <td>NaN</td>\n",
       "      <td>NaN</td>\n",
       "    </tr>\n",
       "    <tr>\n",
       "      <th>3</th>\n",
       "      <td>1001425</td>\n",
       "      <td>Sudevi</td>\n",
       "      <td>P00237842</td>\n",
       "      <td>M</td>\n",
       "      <td>0-17</td>\n",
       "      <td>16</td>\n",
       "      <td>0</td>\n",
       "      <td>Karnataka</td>\n",
       "      <td>Southern</td>\n",
       "      <td>Construction</td>\n",
       "      <td>Auto</td>\n",
       "      <td>2</td>\n",
       "      <td>23912.0</td>\n",
       "      <td>NaN</td>\n",
       "      <td>NaN</td>\n",
       "    </tr>\n",
       "    <tr>\n",
       "      <th>4</th>\n",
       "      <td>1000588</td>\n",
       "      <td>Joni</td>\n",
       "      <td>P00057942</td>\n",
       "      <td>M</td>\n",
       "      <td>26-35</td>\n",
       "      <td>28</td>\n",
       "      <td>1</td>\n",
       "      <td>Gujarat</td>\n",
       "      <td>Western</td>\n",
       "      <td>Food Processing</td>\n",
       "      <td>Auto</td>\n",
       "      <td>2</td>\n",
       "      <td>23877.0</td>\n",
       "      <td>NaN</td>\n",
       "      <td>NaN</td>\n",
       "    </tr>\n",
       "  </tbody>\n",
       "</table>\n",
       "</div>"
      ],
      "text/plain": [
       "   User_ID  Cust_name Product_ID Gender Age Group  Age  Marital_Status  \\\n",
       "0  1002903  Sanskriti  P00125942      F     26-35   28               0   \n",
       "1  1000732     Kartik  P00110942      F     26-35   35               1   \n",
       "2  1001990      Bindu  P00118542      F     26-35   35               1   \n",
       "3  1001425     Sudevi  P00237842      M      0-17   16               0   \n",
       "4  1000588       Joni  P00057942      M     26-35   28               1   \n",
       "\n",
       "            State      Zone       Occupation Product_Category  Orders  \\\n",
       "0     Maharashtra   Western       Healthcare             Auto       1   \n",
       "1  Andhra Pradesh  Southern             Govt             Auto       3   \n",
       "2   Uttar Pradesh   Central       Automobile             Auto       3   \n",
       "3       Karnataka  Southern     Construction             Auto       2   \n",
       "4         Gujarat   Western  Food Processing             Auto       2   \n",
       "\n",
       "    Amount  Status  unnamed1  \n",
       "0  23952.0     NaN       NaN  \n",
       "1  23934.0     NaN       NaN  \n",
       "2  23924.0     NaN       NaN  \n",
       "3  23912.0     NaN       NaN  \n",
       "4  23877.0     NaN       NaN  "
      ]
     },
     "execution_count": 36,
     "metadata": {},
     "output_type": "execute_result"
    }
   ],
   "source": [
    "df.head()"
   ]
  },
  {
   "cell_type": "code",
   "execution_count": 37,
   "id": "0814c45b",
   "metadata": {},
   "outputs": [
    {
     "name": "stdout",
     "output_type": "stream",
     "text": [
      "<class 'pandas.core.frame.DataFrame'>\n",
      "RangeIndex: 11251 entries, 0 to 11250\n",
      "Data columns (total 15 columns):\n",
      " #   Column            Non-Null Count  Dtype  \n",
      "---  ------            --------------  -----  \n",
      " 0   User_ID           11251 non-null  int64  \n",
      " 1   Cust_name         11251 non-null  object \n",
      " 2   Product_ID        11251 non-null  object \n",
      " 3   Gender            11251 non-null  object \n",
      " 4   Age Group         11251 non-null  object \n",
      " 5   Age               11251 non-null  int64  \n",
      " 6   Marital_Status    11251 non-null  int64  \n",
      " 7   State             11251 non-null  object \n",
      " 8   Zone              11251 non-null  object \n",
      " 9   Occupation        11251 non-null  object \n",
      " 10  Product_Category  11251 non-null  object \n",
      " 11  Orders            11251 non-null  int64  \n",
      " 12  Amount            11239 non-null  float64\n",
      " 13  Status            0 non-null      float64\n",
      " 14  unnamed1          0 non-null      float64\n",
      "dtypes: float64(3), int64(4), object(8)\n",
      "memory usage: 1.3+ MB\n"
     ]
    }
   ],
   "source": [
    "df.info()"
   ]
  },
  {
   "cell_type": "code",
   "execution_count": 38,
   "id": "29afa95b",
   "metadata": {},
   "outputs": [],
   "source": [
    "#drop unrelated/blank columns\n",
    "df.drop(['Status', 'unnamed1'], axis=1, inplace=True)"
   ]
  },
  {
   "cell_type": "code",
   "execution_count": 39,
   "id": "5cee58eb",
   "metadata": {},
   "outputs": [
    {
     "data": {
      "application/vnd.microsoft.datawrangler.viewer.v0+json": {
       "columns": [
        {
         "name": "index",
         "rawType": "object",
         "type": "string"
        },
        {
         "name": "0",
         "rawType": "int64",
         "type": "integer"
        }
       ],
       "ref": "1842d9e5-eea4-466d-9dcb-bbf94fddcf64",
       "rows": [
        [
         "User_ID",
         "0"
        ],
        [
         "Cust_name",
         "0"
        ],
        [
         "Product_ID",
         "0"
        ],
        [
         "Gender",
         "0"
        ],
        [
         "Age Group",
         "0"
        ],
        [
         "Age",
         "0"
        ],
        [
         "Marital_Status",
         "0"
        ],
        [
         "State",
         "0"
        ],
        [
         "Zone",
         "0"
        ],
        [
         "Occupation",
         "0"
        ],
        [
         "Product_Category",
         "0"
        ],
        [
         "Orders",
         "0"
        ],
        [
         "Amount",
         "12"
        ]
       ],
       "shape": {
        "columns": 1,
        "rows": 13
       }
      },
      "text/plain": [
       "User_ID              0\n",
       "Cust_name            0\n",
       "Product_ID           0\n",
       "Gender               0\n",
       "Age Group            0\n",
       "Age                  0\n",
       "Marital_Status       0\n",
       "State                0\n",
       "Zone                 0\n",
       "Occupation           0\n",
       "Product_Category     0\n",
       "Orders               0\n",
       "Amount              12\n",
       "dtype: int64"
      ]
     },
     "execution_count": 39,
     "metadata": {},
     "output_type": "execute_result"
    }
   ],
   "source": [
    "#check for null values\n",
    "pd.isnull(df).sum()"
   ]
  },
  {
   "cell_type": "code",
   "execution_count": 40,
   "id": "65de74e3",
   "metadata": {},
   "outputs": [],
   "source": [
    "# drop null values\n",
    "df.dropna(inplace=True)"
   ]
  },
  {
   "cell_type": "code",
   "execution_count": 41,
   "id": "14e4ff48",
   "metadata": {},
   "outputs": [],
   "source": [
    "# change data type\n",
    "df['Amount'] = df['Amount'].astype('int')"
   ]
  },
  {
   "cell_type": "code",
   "execution_count": 42,
   "id": "aa6752dc",
   "metadata": {},
   "outputs": [
    {
     "data": {
      "text/plain": [
       "dtype('int64')"
      ]
     },
     "execution_count": 42,
     "metadata": {},
     "output_type": "execute_result"
    }
   ],
   "source": [
    "df['Amount'].dtypes"
   ]
  },
  {
   "cell_type": "code",
   "execution_count": 43,
   "id": "5f723a99",
   "metadata": {},
   "outputs": [
    {
     "data": {
      "text/plain": [
       "Index(['User_ID', 'Cust_name', 'Product_ID', 'Gender', 'Age Group', 'Age',\n",
       "       'Marital_Status', 'State', 'Zone', 'Occupation', 'Product_Category',\n",
       "       'Orders', 'Amount'],\n",
       "      dtype='object')"
      ]
     },
     "execution_count": 43,
     "metadata": {},
     "output_type": "execute_result"
    }
   ],
   "source": [
    "df.columns"
   ]
  },
  {
   "cell_type": "code",
   "execution_count": 44,
   "id": "a85bb3c3",
   "metadata": {},
   "outputs": [
    {
     "data": {
      "application/vnd.microsoft.datawrangler.viewer.v0+json": {
       "columns": [
        {
         "name": "index",
         "rawType": "int64",
         "type": "integer"
        },
        {
         "name": "User_ID",
         "rawType": "int64",
         "type": "integer"
        },
        {
         "name": "Cust_name",
         "rawType": "object",
         "type": "string"
        },
        {
         "name": "Product_ID",
         "rawType": "object",
         "type": "string"
        },
        {
         "name": "Gender",
         "rawType": "object",
         "type": "string"
        },
        {
         "name": "Age Group",
         "rawType": "object",
         "type": "string"
        },
        {
         "name": "Age",
         "rawType": "int64",
         "type": "integer"
        },
        {
         "name": "Shaadi",
         "rawType": "int64",
         "type": "integer"
        },
        {
         "name": "State",
         "rawType": "object",
         "type": "string"
        },
        {
         "name": "Zone",
         "rawType": "object",
         "type": "string"
        },
        {
         "name": "Occupation",
         "rawType": "object",
         "type": "string"
        },
        {
         "name": "Product_Category",
         "rawType": "object",
         "type": "string"
        },
        {
         "name": "Orders",
         "rawType": "int64",
         "type": "integer"
        },
        {
         "name": "Amount",
         "rawType": "int64",
         "type": "integer"
        }
       ],
       "ref": "4df8fc25-7f90-4693-9787-da4e08909d85",
       "rows": [
        [
         "0",
         "1002903",
         "Sanskriti",
         "P00125942",
         "F",
         "26-35",
         "28",
         "0",
         "Maharashtra",
         "Western",
         "Healthcare",
         "Auto",
         "1",
         "23952"
        ],
        [
         "1",
         "1000732",
         "Kartik",
         "P00110942",
         "F",
         "26-35",
         "35",
         "1",
         "Andhra Pradesh",
         "Southern",
         "Govt",
         "Auto",
         "3",
         "23934"
        ],
        [
         "2",
         "1001990",
         "Bindu",
         "P00118542",
         "F",
         "26-35",
         "35",
         "1",
         "Uttar Pradesh",
         "Central",
         "Automobile",
         "Auto",
         "3",
         "23924"
        ],
        [
         "3",
         "1001425",
         "Sudevi",
         "P00237842",
         "M",
         "0-17",
         "16",
         "0",
         "Karnataka",
         "Southern",
         "Construction",
         "Auto",
         "2",
         "23912"
        ],
        [
         "4",
         "1000588",
         "Joni",
         "P00057942",
         "M",
         "26-35",
         "28",
         "1",
         "Gujarat",
         "Western",
         "Food Processing",
         "Auto",
         "2",
         "23877"
        ],
        [
         "5",
         "1000588",
         "Joni",
         "P00057942",
         "M",
         "26-35",
         "28",
         "1",
         "Himachal Pradesh",
         "Northern",
         "Food Processing",
         "Auto",
         "1",
         "23877"
        ],
        [
         "6",
         "1001132",
         "Balk",
         "P00018042",
         "F",
         "18-25",
         "25",
         "1",
         "Uttar Pradesh",
         "Central",
         "Lawyer",
         "Auto",
         "4",
         "23841"
        ],
        [
         "8",
         "1003224",
         "Kushal",
         "P00205642",
         "M",
         "26-35",
         "35",
         "0",
         "Uttar Pradesh",
         "Central",
         "Govt",
         "Auto",
         "2",
         "23809"
        ],
        [
         "9",
         "1003650",
         "Ginny",
         "P00031142",
         "F",
         "26-35",
         "26",
         "1",
         "Andhra Pradesh",
         "Southern",
         "Media",
         "Auto",
         "4",
         "23799"
        ],
        [
         "10",
         "1003829",
         "Harshita",
         "P00200842",
         "M",
         "26-35",
         "34",
         "0",
         "Delhi",
         "Central",
         "Banking",
         "Auto",
         "1",
         "23770"
        ],
        [
         "11",
         "1000214",
         "Kargatis",
         "P00119142",
         "F",
         "18-25",
         "20",
         "0",
         "Andhra Pradesh",
         "Southern",
         "Retail",
         "Auto",
         "2",
         "23752"
        ],
        [
         "12",
         "1004035",
         "Elijah",
         "P00080342",
         "F",
         "18-25",
         "20",
         "1",
         "Andhra Pradesh",
         "Southern",
         "IT Sector",
         "Auto",
         "2",
         "23730"
        ],
        [
         "13",
         "1001680",
         "Vasudev",
         "P00324942",
         "M",
         "26-35",
         "26",
         "1",
         "Andhra Pradesh",
         "Southern",
         "Automobile",
         "Auto",
         "4",
         "23718"
        ],
        [
         "15",
         "1000813",
         "Lauren",
         "P00289942",
         "F",
         "18-25",
         "24",
         "0",
         "Andhra Pradesh",
         "Southern",
         "Govt",
         "Auto",
         "2",
         "23664"
        ],
        [
         "17",
         "1001193",
         "Mick",
         "P00004842",
         "F",
         "26-35",
         "29",
         "0",
         "Andhra Pradesh",
         "Southern",
         "Aviation",
         "Auto",
         "1",
         "23619"
        ],
        [
         "18",
         "1001883",
         "Praneet",
         "P00029842",
         "M",
         "51-55",
         "54",
         "1",
         "Uttar Pradesh",
         "Central",
         "Hospitality",
         "Auto",
         "1",
         "23568"
        ],
        [
         "19",
         "1001883",
         "Praneet",
         "P00029842",
         "M",
         "51-55",
         "54",
         "1",
         "Uttar Pradesh",
         "Central",
         "Hospitality",
         "Auto",
         "1",
         "23568"
        ],
        [
         "20",
         "1000113",
         "Ellis",
         "P00180642",
         "F",
         "18-25",
         "19",
         "1",
         "Andhra Pradesh",
         "Southern",
         "Govt",
         "Auto",
         "4",
         "23546"
        ],
        [
         "21",
         "1000416",
         "Hrisheekesh",
         "P00181842",
         "F",
         "46-50",
         "46",
         "1",
         "Uttar Pradesh",
         "Central",
         "Banking",
         "Auto",
         "2",
         "23525"
        ],
        [
         "22",
         "1005256",
         "Grant",
         "P00101742",
         "F",
         "26-35",
         "30",
         "0",
         "Andhra Pradesh",
         "Southern",
         "IT Sector",
         "Auto",
         "1",
         "23518"
        ],
        [
         "23",
         "1001505",
         "Gilcrest",
         "P00271842",
         "F",
         "51-55",
         "53",
         "0",
         "Uttar Pradesh",
         "Central",
         "Automobile",
         "Auto",
         "2",
         "23515"
        ],
        [
         "24",
         "1000900",
         "Skaria",
         "P00317842",
         "M",
         "55+",
         "83",
         "0",
         "Karnataka",
         "Southern",
         "Automobile",
         "Auto",
         "3",
         "23513"
        ],
        [
         "25",
         "1005908",
         "Eric",
         "P00282642",
         "F",
         "26-35",
         "33",
         "0",
         "Andhra Pradesh",
         "Southern",
         "IT Sector",
         "Auto",
         "3",
         "23462"
        ],
        [
         "26",
         "1001101",
         "Gibson",
         "P00234742",
         "F",
         "36-45",
         "40",
         "0",
         "Uttar Pradesh",
         "Central",
         "Banking",
         "Auto",
         "3",
         "23456"
        ],
        [
         "27",
         "1004736",
         "Mahima",
         "P00058042",
         "F",
         "18-25",
         "25",
         "1",
         "Andhra Pradesh",
         "Southern",
         "Banking",
         "Auto",
         "4",
         "23451"
        ],
        [
         "28",
         "1004037",
         "Etezadi",
         "P00190542",
         "M",
         "51-55",
         "54",
         "1",
         "Andhra Pradesh",
         "Southern",
         "Govt",
         "Hand & Power Tools",
         "2",
         "23434"
        ],
        [
         "29",
         "1002340",
         "James",
         "P00119642",
         "F",
         "36-45",
         "39",
         "1",
         "Andhra Pradesh",
         "Southern",
         "Aviation",
         "Auto",
         "3",
         "23389"
        ],
        [
         "30",
         "1005664",
         "Dean",
         "P00111642",
         "F",
         "18-25",
         "20",
         "0",
         "Andhra Pradesh",
         "Southern",
         "Aviation",
         "Auto",
         "2",
         "23365"
        ],
        [
         "31",
         "1002523",
         "Aman",
         "P00293342",
         "F",
         "26-35",
         "32",
         "1",
         "Andhra Pradesh",
         "Southern",
         "Food Processing",
         "Auto",
         "3",
         "23326"
        ],
        [
         "32",
         "1002503",
         "Mousam",
         "P00220042",
         "F",
         "36-45",
         "36",
         "0",
         "Andhra Pradesh",
         "Southern",
         "Automobile",
         "Auto",
         "2",
         "23314"
        ],
        [
         "33",
         "1002638",
         "Damala",
         "P00346242",
         "F",
         "26-35",
         "35",
         "1",
         "Maharashtra",
         "Western",
         "Media",
         "Auto",
         "2",
         "23306"
        ],
        [
         "34",
         "1004505",
         "Daniels",
         "P00080042",
         "F",
         "51-55",
         "55",
         "1",
         "Andhra Pradesh",
         "Southern",
         "Healthcare",
         "Auto",
         "4",
         "23302"
        ],
        [
         "35",
         "1004957",
         "Inderpreet",
         "P00111842",
         "M",
         "26-35",
         "27",
         "1",
         "Jharkhand",
         "Eastern",
         "Govt",
         "Auto",
         "1",
         "23285"
        ],
        [
         "36",
         "1005649",
         "Sweta",
         "P00238542",
         "M",
         "18-25",
         "20",
         "1",
         "Delhi",
         "Central",
         "Media",
         "Auto",
         "1",
         "23281"
        ],
        [
         "37",
         "1004508",
         "Phonely",
         "P00048742",
         "F",
         "26-35",
         "32",
         "0",
         "Andhra Pradesh",
         "Southern",
         "Aviation",
         "Auto",
         "1",
         "23270"
        ],
        [
         "38",
         "1002520",
         "Mike",
         "P00310342",
         "M",
         "55+",
         "72",
         "1",
         "Himachal Pradesh",
         "Northern",
         "Media",
         "Auto",
         "4",
         "23267"
        ],
        [
         "39",
         "1003111",
         "Dean",
         "P00249542",
         "F",
         "18-25",
         "25",
         "1",
         "Andhra Pradesh",
         "Southern",
         "Banking",
         "Auto",
         "4",
         "23252"
        ],
        [
         "40",
         "1000687",
         "Neola",
         "P00156442",
         "M",
         "26-35",
         "35",
         "0",
         "Kerala",
         "Southern",
         "Aviation",
         "Auto",
         "1",
         "23247"
        ],
        [
         "41",
         "1003267",
         "Trupti",
         "P00144242",
         "M",
         "26-35",
         "30",
         "1",
         "Uttar Pradesh",
         "Central",
         "Banking",
         "Hand & Power Tools",
         "2",
         "23246"
        ],
        [
         "42",
         "1001182",
         "Zypern",
         "P00122442",
         "M",
         "0-17",
         "16",
         "0",
         "Andhra Pradesh",
         "Southern",
         "Food Processing",
         "Auto",
         "4",
         "23239"
        ],
        [
         "43",
         "1005383",
         "Ellison",
         "P0096942",
         "F",
         "36-45",
         "40",
         "0",
         "Andhra Pradesh",
         "Southern",
         "Aviation",
         "Auto",
         "2",
         "23201"
        ],
        [
         "44",
         "1004303",
         "Jane",
         "P00201442",
         "F",
         "26-35",
         "35",
         "1",
         "Andhra Pradesh",
         "Southern",
         "Aviation",
         "Auto",
         "2",
         "23185"
        ],
        [
         "45",
         "1005493",
         "Stewart",
         "P00036242",
         "M",
         "36-45",
         "45",
         "1",
         "Andhra Pradesh",
         "Southern",
         "Agriculture",
         "Hand & Power Tools",
         "3",
         "23160"
        ],
        [
         "46",
         "1000728",
         "Breyer",
         "P00113942",
         "F",
         "26-35",
         "28",
         "0",
         "Andhra Pradesh",
         "Southern",
         "Banking",
         "Auto",
         "1",
         "23154"
        ],
        [
         "47",
         "1002966",
         "Jesslyn",
         "P00121642",
         "M",
         "26-35",
         "32",
         "1",
         "Delhi",
         "Central",
         "Construction",
         "Auto",
         "3",
         "23103"
        ],
        [
         "48",
         "1001726",
         "Abhijit",
         "P00105042",
         "F",
         "26-35",
         "32",
         "0",
         "Andhra Pradesh",
         "Southern",
         "Retail",
         "Auto",
         "4",
         "23066"
        ],
        [
         "49",
         "1001404",
         "Vineet",
         "P00141842",
         "F",
         "51-55",
         "53",
         "0",
         "Andhra Pradesh",
         "Southern",
         "IT Sector",
         "Auto",
         "2",
         "23053"
        ],
        [
         "50",
         "1005267",
         "Elizabeth",
         "P00115342",
         "F",
         "36-45",
         "43",
         "1",
         "Andhra Pradesh",
         "Southern",
         "IT Sector",
         "Auto",
         "3",
         "23047"
        ],
        [
         "51",
         "1003745",
         "Shivani",
         "P00220042",
         "M",
         "26-35",
         "29",
         "0",
         "Haryana",
         "Northern",
         "IT Sector",
         "Stationery",
         "2",
         "21563"
        ],
        [
         "52",
         "1001884",
         "Eugene",
         "P00339042",
         "F",
         "46-50",
         "47",
         "0",
         "Delhi",
         "Central",
         "Textile",
         "Stationery",
         "1",
         "21547"
        ]
       ],
       "shape": {
        "columns": 13,
        "rows": 11239
       }
      },
      "text/html": [
       "<div>\n",
       "<style scoped>\n",
       "    .dataframe tbody tr th:only-of-type {\n",
       "        vertical-align: middle;\n",
       "    }\n",
       "\n",
       "    .dataframe tbody tr th {\n",
       "        vertical-align: top;\n",
       "    }\n",
       "\n",
       "    .dataframe thead th {\n",
       "        text-align: right;\n",
       "    }\n",
       "</style>\n",
       "<table border=\"1\" class=\"dataframe\">\n",
       "  <thead>\n",
       "    <tr style=\"text-align: right;\">\n",
       "      <th></th>\n",
       "      <th>User_ID</th>\n",
       "      <th>Cust_name</th>\n",
       "      <th>Product_ID</th>\n",
       "      <th>Gender</th>\n",
       "      <th>Age Group</th>\n",
       "      <th>Age</th>\n",
       "      <th>Shaadi</th>\n",
       "      <th>State</th>\n",
       "      <th>Zone</th>\n",
       "      <th>Occupation</th>\n",
       "      <th>Product_Category</th>\n",
       "      <th>Orders</th>\n",
       "      <th>Amount</th>\n",
       "    </tr>\n",
       "  </thead>\n",
       "  <tbody>\n",
       "    <tr>\n",
       "      <th>0</th>\n",
       "      <td>1002903</td>\n",
       "      <td>Sanskriti</td>\n",
       "      <td>P00125942</td>\n",
       "      <td>F</td>\n",
       "      <td>26-35</td>\n",
       "      <td>28</td>\n",
       "      <td>0</td>\n",
       "      <td>Maharashtra</td>\n",
       "      <td>Western</td>\n",
       "      <td>Healthcare</td>\n",
       "      <td>Auto</td>\n",
       "      <td>1</td>\n",
       "      <td>23952</td>\n",
       "    </tr>\n",
       "    <tr>\n",
       "      <th>1</th>\n",
       "      <td>1000732</td>\n",
       "      <td>Kartik</td>\n",
       "      <td>P00110942</td>\n",
       "      <td>F</td>\n",
       "      <td>26-35</td>\n",
       "      <td>35</td>\n",
       "      <td>1</td>\n",
       "      <td>Andhra Pradesh</td>\n",
       "      <td>Southern</td>\n",
       "      <td>Govt</td>\n",
       "      <td>Auto</td>\n",
       "      <td>3</td>\n",
       "      <td>23934</td>\n",
       "    </tr>\n",
       "    <tr>\n",
       "      <th>2</th>\n",
       "      <td>1001990</td>\n",
       "      <td>Bindu</td>\n",
       "      <td>P00118542</td>\n",
       "      <td>F</td>\n",
       "      <td>26-35</td>\n",
       "      <td>35</td>\n",
       "      <td>1</td>\n",
       "      <td>Uttar Pradesh</td>\n",
       "      <td>Central</td>\n",
       "      <td>Automobile</td>\n",
       "      <td>Auto</td>\n",
       "      <td>3</td>\n",
       "      <td>23924</td>\n",
       "    </tr>\n",
       "    <tr>\n",
       "      <th>3</th>\n",
       "      <td>1001425</td>\n",
       "      <td>Sudevi</td>\n",
       "      <td>P00237842</td>\n",
       "      <td>M</td>\n",
       "      <td>0-17</td>\n",
       "      <td>16</td>\n",
       "      <td>0</td>\n",
       "      <td>Karnataka</td>\n",
       "      <td>Southern</td>\n",
       "      <td>Construction</td>\n",
       "      <td>Auto</td>\n",
       "      <td>2</td>\n",
       "      <td>23912</td>\n",
       "    </tr>\n",
       "    <tr>\n",
       "      <th>4</th>\n",
       "      <td>1000588</td>\n",
       "      <td>Joni</td>\n",
       "      <td>P00057942</td>\n",
       "      <td>M</td>\n",
       "      <td>26-35</td>\n",
       "      <td>28</td>\n",
       "      <td>1</td>\n",
       "      <td>Gujarat</td>\n",
       "      <td>Western</td>\n",
       "      <td>Food Processing</td>\n",
       "      <td>Auto</td>\n",
       "      <td>2</td>\n",
       "      <td>23877</td>\n",
       "    </tr>\n",
       "    <tr>\n",
       "      <th>...</th>\n",
       "      <td>...</td>\n",
       "      <td>...</td>\n",
       "      <td>...</td>\n",
       "      <td>...</td>\n",
       "      <td>...</td>\n",
       "      <td>...</td>\n",
       "      <td>...</td>\n",
       "      <td>...</td>\n",
       "      <td>...</td>\n",
       "      <td>...</td>\n",
       "      <td>...</td>\n",
       "      <td>...</td>\n",
       "      <td>...</td>\n",
       "    </tr>\n",
       "    <tr>\n",
       "      <th>11246</th>\n",
       "      <td>1000695</td>\n",
       "      <td>Manning</td>\n",
       "      <td>P00296942</td>\n",
       "      <td>M</td>\n",
       "      <td>18-25</td>\n",
       "      <td>19</td>\n",
       "      <td>1</td>\n",
       "      <td>Maharashtra</td>\n",
       "      <td>Western</td>\n",
       "      <td>Chemical</td>\n",
       "      <td>Office</td>\n",
       "      <td>4</td>\n",
       "      <td>370</td>\n",
       "    </tr>\n",
       "    <tr>\n",
       "      <th>11247</th>\n",
       "      <td>1004089</td>\n",
       "      <td>Reichenbach</td>\n",
       "      <td>P00171342</td>\n",
       "      <td>M</td>\n",
       "      <td>26-35</td>\n",
       "      <td>33</td>\n",
       "      <td>0</td>\n",
       "      <td>Haryana</td>\n",
       "      <td>Northern</td>\n",
       "      <td>Healthcare</td>\n",
       "      <td>Veterinary</td>\n",
       "      <td>3</td>\n",
       "      <td>367</td>\n",
       "    </tr>\n",
       "    <tr>\n",
       "      <th>11248</th>\n",
       "      <td>1001209</td>\n",
       "      <td>Oshin</td>\n",
       "      <td>P00201342</td>\n",
       "      <td>F</td>\n",
       "      <td>36-45</td>\n",
       "      <td>40</td>\n",
       "      <td>0</td>\n",
       "      <td>Madhya Pradesh</td>\n",
       "      <td>Central</td>\n",
       "      <td>Textile</td>\n",
       "      <td>Office</td>\n",
       "      <td>4</td>\n",
       "      <td>213</td>\n",
       "    </tr>\n",
       "    <tr>\n",
       "      <th>11249</th>\n",
       "      <td>1004023</td>\n",
       "      <td>Noonan</td>\n",
       "      <td>P00059442</td>\n",
       "      <td>M</td>\n",
       "      <td>36-45</td>\n",
       "      <td>37</td>\n",
       "      <td>0</td>\n",
       "      <td>Karnataka</td>\n",
       "      <td>Southern</td>\n",
       "      <td>Agriculture</td>\n",
       "      <td>Office</td>\n",
       "      <td>3</td>\n",
       "      <td>206</td>\n",
       "    </tr>\n",
       "    <tr>\n",
       "      <th>11250</th>\n",
       "      <td>1002744</td>\n",
       "      <td>Brumley</td>\n",
       "      <td>P00281742</td>\n",
       "      <td>F</td>\n",
       "      <td>18-25</td>\n",
       "      <td>19</td>\n",
       "      <td>0</td>\n",
       "      <td>Maharashtra</td>\n",
       "      <td>Western</td>\n",
       "      <td>Healthcare</td>\n",
       "      <td>Office</td>\n",
       "      <td>3</td>\n",
       "      <td>188</td>\n",
       "    </tr>\n",
       "  </tbody>\n",
       "</table>\n",
       "<p>11239 rows × 13 columns</p>\n",
       "</div>"
      ],
      "text/plain": [
       "       User_ID    Cust_name Product_ID Gender Age Group  Age  Shaadi  \\\n",
       "0      1002903    Sanskriti  P00125942      F     26-35   28       0   \n",
       "1      1000732       Kartik  P00110942      F     26-35   35       1   \n",
       "2      1001990        Bindu  P00118542      F     26-35   35       1   \n",
       "3      1001425       Sudevi  P00237842      M      0-17   16       0   \n",
       "4      1000588         Joni  P00057942      M     26-35   28       1   \n",
       "...        ...          ...        ...    ...       ...  ...     ...   \n",
       "11246  1000695      Manning  P00296942      M     18-25   19       1   \n",
       "11247  1004089  Reichenbach  P00171342      M     26-35   33       0   \n",
       "11248  1001209        Oshin  P00201342      F     36-45   40       0   \n",
       "11249  1004023       Noonan  P00059442      M     36-45   37       0   \n",
       "11250  1002744      Brumley  P00281742      F     18-25   19       0   \n",
       "\n",
       "                State      Zone       Occupation Product_Category  Orders  \\\n",
       "0         Maharashtra   Western       Healthcare             Auto       1   \n",
       "1      Andhra Pradesh  Southern             Govt             Auto       3   \n",
       "2       Uttar Pradesh   Central       Automobile             Auto       3   \n",
       "3           Karnataka  Southern     Construction             Auto       2   \n",
       "4             Gujarat   Western  Food Processing             Auto       2   \n",
       "...               ...       ...              ...              ...     ...   \n",
       "11246     Maharashtra   Western         Chemical           Office       4   \n",
       "11247         Haryana  Northern       Healthcare       Veterinary       3   \n",
       "11248  Madhya Pradesh   Central          Textile           Office       4   \n",
       "11249       Karnataka  Southern      Agriculture           Office       3   \n",
       "11250     Maharashtra   Western       Healthcare           Office       3   \n",
       "\n",
       "       Amount  \n",
       "0       23952  \n",
       "1       23934  \n",
       "2       23924  \n",
       "3       23912  \n",
       "4       23877  \n",
       "...       ...  \n",
       "11246     370  \n",
       "11247     367  \n",
       "11248     213  \n",
       "11249     206  \n",
       "11250     188  \n",
       "\n",
       "[11239 rows x 13 columns]"
      ]
     },
     "execution_count": 44,
     "metadata": {},
     "output_type": "execute_result"
    }
   ],
   "source": [
    "#rename column\n",
    "df.rename(columns= {'Marital_Status':'Shaadi'})"
   ]
  },
  {
   "cell_type": "code",
   "execution_count": 45,
   "id": "a2484863",
   "metadata": {},
   "outputs": [
    {
     "data": {
      "application/vnd.microsoft.datawrangler.viewer.v0+json": {
       "columns": [
        {
         "name": "index",
         "rawType": "object",
         "type": "string"
        },
        {
         "name": "User_ID",
         "rawType": "float64",
         "type": "float"
        },
        {
         "name": "Age",
         "rawType": "float64",
         "type": "float"
        },
        {
         "name": "Marital_Status",
         "rawType": "float64",
         "type": "float"
        },
        {
         "name": "Orders",
         "rawType": "float64",
         "type": "float"
        },
        {
         "name": "Amount",
         "rawType": "float64",
         "type": "float"
        }
       ],
       "ref": "903e4548-0f0b-4340-9b12-423d8ba55622",
       "rows": [
        [
         "count",
         "11239.0",
         "11239.0",
         "11239.0",
         "11239.0",
         "11239.0"
        ],
        [
         "mean",
         "1003003.5217546045",
         "35.41035679330901",
         "0.42005516505027135",
         "2.4896343091022333",
         "9453.610552540262"
        ],
        [
         "std",
         "1716.0388257054724",
         "12.753866054953013",
         "0.4935894048750261",
         "1.1149672729126838",
         "5222.355168094684"
        ],
        [
         "min",
         "1000001.0",
         "12.0",
         "0.0",
         "1.0",
         "188.0"
        ],
        [
         "25%",
         "1001491.5",
         "27.0",
         "0.0",
         "2.0",
         "5443.0"
        ],
        [
         "50%",
         "1003064.0",
         "33.0",
         "0.0",
         "2.0",
         "8109.0"
        ],
        [
         "75%",
         "1004426.5",
         "43.0",
         "1.0",
         "3.0",
         "12675.0"
        ],
        [
         "max",
         "1006040.0",
         "92.0",
         "1.0",
         "4.0",
         "23952.0"
        ]
       ],
       "shape": {
        "columns": 5,
        "rows": 8
       }
      },
      "text/html": [
       "<div>\n",
       "<style scoped>\n",
       "    .dataframe tbody tr th:only-of-type {\n",
       "        vertical-align: middle;\n",
       "    }\n",
       "\n",
       "    .dataframe tbody tr th {\n",
       "        vertical-align: top;\n",
       "    }\n",
       "\n",
       "    .dataframe thead th {\n",
       "        text-align: right;\n",
       "    }\n",
       "</style>\n",
       "<table border=\"1\" class=\"dataframe\">\n",
       "  <thead>\n",
       "    <tr style=\"text-align: right;\">\n",
       "      <th></th>\n",
       "      <th>User_ID</th>\n",
       "      <th>Age</th>\n",
       "      <th>Marital_Status</th>\n",
       "      <th>Orders</th>\n",
       "      <th>Amount</th>\n",
       "    </tr>\n",
       "  </thead>\n",
       "  <tbody>\n",
       "    <tr>\n",
       "      <th>count</th>\n",
       "      <td>1.123900e+04</td>\n",
       "      <td>11239.000000</td>\n",
       "      <td>11239.000000</td>\n",
       "      <td>11239.000000</td>\n",
       "      <td>11239.000000</td>\n",
       "    </tr>\n",
       "    <tr>\n",
       "      <th>mean</th>\n",
       "      <td>1.003004e+06</td>\n",
       "      <td>35.410357</td>\n",
       "      <td>0.420055</td>\n",
       "      <td>2.489634</td>\n",
       "      <td>9453.610553</td>\n",
       "    </tr>\n",
       "    <tr>\n",
       "      <th>std</th>\n",
       "      <td>1.716039e+03</td>\n",
       "      <td>12.753866</td>\n",
       "      <td>0.493589</td>\n",
       "      <td>1.114967</td>\n",
       "      <td>5222.355168</td>\n",
       "    </tr>\n",
       "    <tr>\n",
       "      <th>min</th>\n",
       "      <td>1.000001e+06</td>\n",
       "      <td>12.000000</td>\n",
       "      <td>0.000000</td>\n",
       "      <td>1.000000</td>\n",
       "      <td>188.000000</td>\n",
       "    </tr>\n",
       "    <tr>\n",
       "      <th>25%</th>\n",
       "      <td>1.001492e+06</td>\n",
       "      <td>27.000000</td>\n",
       "      <td>0.000000</td>\n",
       "      <td>2.000000</td>\n",
       "      <td>5443.000000</td>\n",
       "    </tr>\n",
       "    <tr>\n",
       "      <th>50%</th>\n",
       "      <td>1.003064e+06</td>\n",
       "      <td>33.000000</td>\n",
       "      <td>0.000000</td>\n",
       "      <td>2.000000</td>\n",
       "      <td>8109.000000</td>\n",
       "    </tr>\n",
       "    <tr>\n",
       "      <th>75%</th>\n",
       "      <td>1.004426e+06</td>\n",
       "      <td>43.000000</td>\n",
       "      <td>1.000000</td>\n",
       "      <td>3.000000</td>\n",
       "      <td>12675.000000</td>\n",
       "    </tr>\n",
       "    <tr>\n",
       "      <th>max</th>\n",
       "      <td>1.006040e+06</td>\n",
       "      <td>92.000000</td>\n",
       "      <td>1.000000</td>\n",
       "      <td>4.000000</td>\n",
       "      <td>23952.000000</td>\n",
       "    </tr>\n",
       "  </tbody>\n",
       "</table>\n",
       "</div>"
      ],
      "text/plain": [
       "            User_ID           Age  Marital_Status        Orders        Amount\n",
       "count  1.123900e+04  11239.000000    11239.000000  11239.000000  11239.000000\n",
       "mean   1.003004e+06     35.410357        0.420055      2.489634   9453.610553\n",
       "std    1.716039e+03     12.753866        0.493589      1.114967   5222.355168\n",
       "min    1.000001e+06     12.000000        0.000000      1.000000    188.000000\n",
       "25%    1.001492e+06     27.000000        0.000000      2.000000   5443.000000\n",
       "50%    1.003064e+06     33.000000        0.000000      2.000000   8109.000000\n",
       "75%    1.004426e+06     43.000000        1.000000      3.000000  12675.000000\n",
       "max    1.006040e+06     92.000000        1.000000      4.000000  23952.000000"
      ]
     },
     "execution_count": 45,
     "metadata": {},
     "output_type": "execute_result"
    }
   ],
   "source": [
    "# describe() method returns description of the data in the DataFrame (i.e. count, mean, std, etc)\n",
    "df.describe()"
   ]
  },
  {
   "cell_type": "code",
   "execution_count": 46,
   "id": "2c380030",
   "metadata": {},
   "outputs": [
    {
     "data": {
      "application/vnd.microsoft.datawrangler.viewer.v0+json": {
       "columns": [
        {
         "name": "index",
         "rawType": "object",
         "type": "string"
        },
        {
         "name": "Age",
         "rawType": "float64",
         "type": "float"
        },
        {
         "name": "Orders",
         "rawType": "float64",
         "type": "float"
        },
        {
         "name": "Amount",
         "rawType": "float64",
         "type": "float"
        }
       ],
       "ref": "870689cc-406a-49d5-9a33-b232a69f1b5e",
       "rows": [
        [
         "count",
         "11239.0",
         "11239.0",
         "11239.0"
        ],
        [
         "mean",
         "35.41035679330901",
         "2.4896343091022333",
         "9453.610552540262"
        ],
        [
         "std",
         "12.753866054953013",
         "1.1149672729126838",
         "5222.355168094684"
        ],
        [
         "min",
         "12.0",
         "1.0",
         "188.0"
        ],
        [
         "25%",
         "27.0",
         "2.0",
         "5443.0"
        ],
        [
         "50%",
         "33.0",
         "2.0",
         "8109.0"
        ],
        [
         "75%",
         "43.0",
         "3.0",
         "12675.0"
        ],
        [
         "max",
         "92.0",
         "4.0",
         "23952.0"
        ]
       ],
       "shape": {
        "columns": 3,
        "rows": 8
       }
      },
      "text/html": [
       "<div>\n",
       "<style scoped>\n",
       "    .dataframe tbody tr th:only-of-type {\n",
       "        vertical-align: middle;\n",
       "    }\n",
       "\n",
       "    .dataframe tbody tr th {\n",
       "        vertical-align: top;\n",
       "    }\n",
       "\n",
       "    .dataframe thead th {\n",
       "        text-align: right;\n",
       "    }\n",
       "</style>\n",
       "<table border=\"1\" class=\"dataframe\">\n",
       "  <thead>\n",
       "    <tr style=\"text-align: right;\">\n",
       "      <th></th>\n",
       "      <th>Age</th>\n",
       "      <th>Orders</th>\n",
       "      <th>Amount</th>\n",
       "    </tr>\n",
       "  </thead>\n",
       "  <tbody>\n",
       "    <tr>\n",
       "      <th>count</th>\n",
       "      <td>11239.000000</td>\n",
       "      <td>11239.000000</td>\n",
       "      <td>11239.000000</td>\n",
       "    </tr>\n",
       "    <tr>\n",
       "      <th>mean</th>\n",
       "      <td>35.410357</td>\n",
       "      <td>2.489634</td>\n",
       "      <td>9453.610553</td>\n",
       "    </tr>\n",
       "    <tr>\n",
       "      <th>std</th>\n",
       "      <td>12.753866</td>\n",
       "      <td>1.114967</td>\n",
       "      <td>5222.355168</td>\n",
       "    </tr>\n",
       "    <tr>\n",
       "      <th>min</th>\n",
       "      <td>12.000000</td>\n",
       "      <td>1.000000</td>\n",
       "      <td>188.000000</td>\n",
       "    </tr>\n",
       "    <tr>\n",
       "      <th>25%</th>\n",
       "      <td>27.000000</td>\n",
       "      <td>2.000000</td>\n",
       "      <td>5443.000000</td>\n",
       "    </tr>\n",
       "    <tr>\n",
       "      <th>50%</th>\n",
       "      <td>33.000000</td>\n",
       "      <td>2.000000</td>\n",
       "      <td>8109.000000</td>\n",
       "    </tr>\n",
       "    <tr>\n",
       "      <th>75%</th>\n",
       "      <td>43.000000</td>\n",
       "      <td>3.000000</td>\n",
       "      <td>12675.000000</td>\n",
       "    </tr>\n",
       "    <tr>\n",
       "      <th>max</th>\n",
       "      <td>92.000000</td>\n",
       "      <td>4.000000</td>\n",
       "      <td>23952.000000</td>\n",
       "    </tr>\n",
       "  </tbody>\n",
       "</table>\n",
       "</div>"
      ],
      "text/plain": [
       "                Age        Orders        Amount\n",
       "count  11239.000000  11239.000000  11239.000000\n",
       "mean      35.410357      2.489634   9453.610553\n",
       "std       12.753866      1.114967   5222.355168\n",
       "min       12.000000      1.000000    188.000000\n",
       "25%       27.000000      2.000000   5443.000000\n",
       "50%       33.000000      2.000000   8109.000000\n",
       "75%       43.000000      3.000000  12675.000000\n",
       "max       92.000000      4.000000  23952.000000"
      ]
     },
     "execution_count": 46,
     "metadata": {},
     "output_type": "execute_result"
    }
   ],
   "source": [
    "# use describe() for specific columns\n",
    "df[['Age', 'Orders', 'Amount']].describe()"
   ]
  },
  {
   "cell_type": "markdown",
   "id": "cc649558",
   "metadata": {},
   "source": [
    "# Exploratory Data Analysis"
   ]
  },
  {
   "cell_type": "markdown",
   "id": "504b419c",
   "metadata": {},
   "source": [
    "### Gender"
   ]
  },
  {
   "cell_type": "code",
   "execution_count": 47,
   "id": "84c7918d",
   "metadata": {
    "scrolled": false
   },
   "outputs": [
    {
     "data": {
      "image/png": "[encoded data removed]",
      "text/plain": [
       "<Figure size 700x500 with 1 Axes>"
      ]
     },
     "metadata": {},
     "output_type": "display_data"
    }
   ],
   "source": [
    "# plotting a bar chart for Gender and it's count\n",
    "\n",
    "ax = sns.countplot(x = 'Gender',data = df)\n",
    "\n",
    "for bars in ax.containers:\n",
    "    ax.bar_label(bars)"
   ]
  },
  {
   "cell_type": "code",
   "execution_count": 48,
   "id": "c5fd4566",
   "metadata": {},
   "outputs": [
    {
     "data": {
      "text/plain": [
       "<Axes: xlabel='Gender', ylabel='Amount'>"
      ]
     },
     "execution_count": 48,
     "metadata": {},
     "output_type": "execute_result"
    },
    {
     "data": {
      "image/png": "[encoded data removed]",
      "text/plain": [
       "<Figure size 700x500 with 1 Axes>"
      ]
     },
     "metadata": {},
     "output_type": "display_data"
    }
   ],
   "source": [
    "# plotting a bar chart for gender vs total amount\n",
    "\n",
    "sales_gen = df.groupby(['Gender'], as_index=False)['Amount'].sum().sort_values(by='Amount', ascending=False)\n",
    "\n",
    "sns.barplot(x = 'Gender',y= 'Amount' ,data = sales_gen)"
   ]
  },
  {
   "cell_type": "markdown",
   "id": "1e108cec",
   "metadata": {},
   "source": [
    "*From above graphs we can see that most of the buyers are females and even the purchasing power of females are greater than men*"
   ]
  },
  {
   "cell_type": "markdown",
   "id": "dcc927f9",
   "metadata": {},
   "source": [
    "### Age"
   ]
  },
  {
   "cell_type": "code",
   "execution_count": 49,
   "id": "88563dec",
   "metadata": {},
   "outputs": [
    {
     "data": {
      "image/png": "[encoded data removed]",
      "text/plain": [
       "<Figure size 700x500 with 1 Axes>"
      ]
     },
     "metadata": {},
     "output_type": "display_data"
    }
   ],
   "source": [
    "ax = sns.countplot(data = df, x = 'Age Group', hue = 'Gender')\n",
    "\n",
    "for bars in ax.containers:\n",
    "    ax.bar_label(bars)"
   ]
  },
  {
   "cell_type": "code",
   "execution_count": 50,
   "id": "bfbe3937",
   "metadata": {},
   "outputs": [
    {
     "data": {
      "text/plain": [
       "<Axes: xlabel='Age Group', ylabel='Amount'>"
      ]
     },
     "execution_count": 50,
     "metadata": {},
     "output_type": "execute_result"
    },
    {
     "data": {
      "image/png": "[encoded data removed]",
      "text/plain": [
       "<Figure size 700x500 with 1 Axes>"
      ]
     },
     "metadata": {},
     "output_type": "display_data"
    }
   ],
   "source": [
    "# Total Amount vs Age Group\n",
    "sales_age = df.groupby(['Age Group'], as_index=False)['Amount'].sum().sort_values(by='Amount', ascending=False)\n",
    "\n",
    "sns.barplot(x = 'Age Group',y= 'Amount' ,data = sales_age)"
   ]
  },
  {
   "cell_type": "markdown",
   "id": "abaa6c07",
   "metadata": {},
   "source": [
    "*From above graphs we can see that most of the buyers are of age group between 26-35 yrs female*"
   ]
  },
  {
   "cell_type": "markdown",
   "id": "83a49098",
   "metadata": {},
   "source": [
    "### State"
   ]
  },
  {
   "cell_type": "code",
   "execution_count": 51,
   "id": "dfac4f2c",
   "metadata": {},
   "outputs": [
    {
     "data": {
      "text/plain": [
       "<Axes: xlabel='State', ylabel='Orders'>"
      ]
     },
     "execution_count": 51,
     "metadata": {},
     "output_type": "execute_result"
    },
    {
     "data": {
      "image/png": "[encoded data removed]",
      "text/plain": [
       "<Figure size 1500x500 with 1 Axes>"
      ]
     },
     "metadata": {},
     "output_type": "display_data"
    }
   ],
   "source": [
    "# total number of orders from top 10 states\n",
    "\n",
    "sales_state = df.groupby(['State'], as_index=False)['Orders'].sum().sort_values(by='Orders', ascending=False).head(10)\n",
    "\n",
    "sns.set(rc={'figure.figsize':(15,5)})\n",
    "sns.barplot(data = sales_state, x = 'State',y= 'Orders')"
   ]
  },
  {
   "cell_type": "code",
   "execution_count": 52,
   "id": "a66617bc",
   "metadata": {},
   "outputs": [
    {
     "data": {
      "text/plain": [
       "<Axes: xlabel='State', ylabel='Amount'>"
      ]
     },
     "execution_count": 52,
     "metadata": {},
     "output_type": "execute_result"
    },
    {
     "data": {
      "image/png": "[encoded data removed]",
      "text/plain": [
       "<Figure size 1500x500 with 1 Axes>"
      ]
     },
     "metadata": {},
     "output_type": "display_data"
    }
   ],
   "source": [
    "# total amount/sales from top 10 states\n",
    "\n",
    "sales_state = df.groupby(['State'], as_index=False)['Amount'].sum().sort_values(by='Amount', ascending=False).head(10) # type: ignore\n",
    "\n",
    "sns.set(rc={'figure.figsize':(15,5)})\n",
    "sns.barplot(data = sales_state, x = 'State',y= 'Amount')"
   ]
  },
  {
   "cell_type": "markdown",
   "id": "39d46e9e",
   "metadata": {},
   "source": [
    "*From above graphs we can see that most of the orders & total sales/amount are from Uttar Pradesh, Maharashtra and Karnataka respectively*\n"
   ]
  },
  {
   "cell_type": "markdown",
   "id": "89f865a5",
   "metadata": {},
   "source": [
    "### Marital Status"
   ]
  },
  {
   "cell_type": "code",
   "execution_count": 53,
   "id": "77e6635e",
   "metadata": {},
   "outputs": [
    {
     "data": {
      "image/png": "[encoded data removed]",
      "text/plain": [
       "<Figure size 1500x500 with 1 Axes>"
      ]
     },
     "metadata": {},
     "output_type": "display_data"
    }
   ],
   "source": [
    "ax = sns.countplot(data = df, x = 'Marital_Status')\n",
    "\n",
    "sns.set(rc={'figure.figsize':(7,5)})\n",
    "for bars in ax.containers:\n",
    "    ax.bar_label(bars) # type: ignore"
   ]
  },
  {
   "cell_type": "code",
   "execution_count": 54,
   "id": "2d8c7b27",
   "metadata": {},
   "outputs": [
    {
     "data": {
      "text/plain": [
       "<Axes: xlabel='Marital_Status', ylabel='Amount'>"
      ]
     },
     "execution_count": 54,
     "metadata": {},
     "output_type": "execute_result"
    },
    {
     "data": {
      "image/png": "[encoded data removed]",
      "text/plain": [
       "<Figure size 600x500 with 1 Axes>"
      ]
     },
     "metadata": {},
     "output_type": "display_data"
    }
   ],
   "source": [
    "sales_state = df.groupby(['Marital_Status', 'Gender'], as_index=False)['Amount'].sum().sort_values(by='Amount', ascending=False) # type: ignore\n",
    "\n",
    "sns.set(rc={'figure.figsize':(6,5)})\n",
    "sns.barplot(data = sales_state, x = 'Marital_Status',y= 'Amount', hue='Gender')"
   ]
  },
  {
   "cell_type": "markdown",
   "id": "37afbb83",
   "metadata": {},
   "source": [
    "*From above graphs we can see that most of the buyers are married (women) and they have high purchasing power*"
   ]
  },
  {
   "cell_type": "markdown",
   "id": "230cfe66",
   "metadata": {},
   "source": [
    "### Occupation"
   ]
  },
  {
   "cell_type": "code",
   "execution_count": 55,
   "id": "4deb41f4",
   "metadata": {},
   "outputs": [
    {
     "data": {
      "image/png": "[encoded data removed]",
      "text/plain": [
       "<Figure size 2000x500 with 1 Axes>"
      ]
     },
     "metadata": {},
     "output_type": "display_data"
    }
   ],
   "source": [
    "sns.set(rc={'figure.figsize':(20,5)})\n",
    "ax = sns.countplot(data = df, x = 'Occupation')\n",
    "\n",
    "for bars in ax.containers:\n",
    "    ax.bar_label(bars) # type: ignore"
   ]
  },
  {
   "cell_type": "code",
   "execution_count": 56,
   "id": "4eb620f6",
   "metadata": {},
   "outputs": [
    {
     "data": {
      "text/plain": [
       "<Axes: xlabel='Occupation', ylabel='Amount'>"
      ]
     },
     "execution_count": 56,
     "metadata": {},
     "output_type": "execute_result"
    },
    {
     "data": {
      "image/png": "[encoded data removed]",
      "text/plain": [
       "<Figure size 2000x500 with 1 Axes>"
      ]
     },
     "metadata": {},
     "output_type": "display_data"
    }
   ],
   "source": [
    "sales_state = df.groupby(['Occupation'], as_index=False)['Amount'].sum().sort_values(by='Amount', ascending=False) # type: ignore\n",
    "\n",
    "sns.set(rc={'figure.figsize':(20,5)})\n",
    "sns.barplot(data = sales_state, x = 'Occupation',y= 'Amount')"
   ]
  },
  {
   "cell_type": "markdown",
   "id": "26c22532",
   "metadata": {},
   "source": [
    "*From above graphs we can see that most of the buyers are working in IT, Healthcare and Aviation sector*"
   ]
  },
  {
   "cell_type": "markdown",
   "id": "40518579",
   "metadata": {},
   "source": [
    "### Product Category"
   ]
  },
  {
   "cell_type": "code",
   "execution_count": 57,
   "id": "3e7e4d39",
   "metadata": {},
   "outputs": [
    {
     "data": {
      "image/png": "[encoded data removed]",
      "text/plain": [
       "<Figure size 2000x500 with 1 Axes>"
      ]
     },
     "metadata": {},
     "output_type": "display_data"
    }
   ],
   "source": [
    "sns.set(rc={'figure.figsize':(20,5)})\n",
    "ax = sns.countplot(data = df, x = 'Product_Category')\n",
    "\n",
    "for bars in ax.containers:\n",
    "    ax.bar_label(bars)"
   ]
  },
  {
   "cell_type": "code",
   "execution_count": 58,
   "id": "99f5c6f3",
   "metadata": {},
   "outputs": [
    {
     "data": {
      "text/plain": [
       "<Axes: xlabel='Product_Category', ylabel='Amount'>"
      ]
     },
     "execution_count": 58,
     "metadata": {},
     "output_type": "execute_result"
    },
    {
     "data": {
      "image/png": "[encoded data removed]",
      "text/plain": [
       "<Figure size 2000x500 with 1 Axes>"
      ]
     },
     "metadata": {},
     "output_type": "display_data"
    }
   ],
   "source": [
    "sales_state = df.groupby(['Product_Category'], as_index=False)['Amount'].sum().sort_values(by='Amount', ascending=False).head(10) # type: ignore\n",
    "\n",
    "sns.set(rc={'figure.figsize':(20,5)})\n",
    "sns.barplot(data = sales_state, x = 'Product_Category',y= 'Amount')"
   ]
  },
  {
   "cell_type": "markdown",
   "id": "5be54973",
   "metadata": {},
   "source": [
    "*From above graphs we can see that most of the sold products are from Food, Clothing and Electronics category*"
   ]
  },
  {
   "cell_type": "code",
   "execution_count": 59,
   "id": "f33d23c7",
   "metadata": {},
   "outputs": [
    {
     "data": {
      "text/plain": [
       "<Axes: xlabel='Product_ID', ylabel='Orders'>"
      ]
     },
     "execution_count": 59,
     "metadata": {},
     "output_type": "execute_result"
    },
    {
     "data": {
      "image/png": "[encoded data removed]",
      "text/plain": [
       "<Figure size 2000x500 with 1 Axes>"
      ]
     },
     "metadata": {},
     "output_type": "display_data"
    }
   ],
   "source": [
    "sales_state = df.groupby(['Product_ID'], as_index=False)['Orders'].sum().sort_values(by='Orders', ascending=False).head(10) # type: ignore\n",
    "\n",
    "sns.set(rc={'figure.figsize':(20,5)})\n",
    "sns.barplot(data = sales_state, x = 'Product_ID',y= 'Orders')"
   ]
  },
  {
   "cell_type": "code",
   "execution_count": 60,
   "id": "17d2bb43",
   "metadata": {},
   "outputs": [
    {
     "data": {
      "text/plain": [
       "<Axes: xlabel='Product_ID'>"
      ]
     },
     "execution_count": 60,
     "metadata": {},
     "output_type": "execute_result"
    },
    {
     "data": {
      "image/png": "[encoded data removed]",
      "text/plain": [
       "<Figure size 1200x700 with 1 Axes>"
      ]
     },
     "metadata": {},
     "output_type": "display_data"
    }
   ],
   "source": [
    "# top 10 most sold products (same thing as above)\n",
    "\n",
    "fig1, ax1 = plt.subplots(figsize=(12,7))\n",
    "df.groupby('Product_ID')['Orders'].sum().nlargest(10).sort_values(ascending=False).plot(kind='bar')"
   ]
  },
  {
   "cell_type": "markdown",
   "id": "31f88f63",
   "metadata": {},
   "source": [
    "## Conclusion:\n",
    "\n",
    "- The majority of buyers during Diwali sales are females, especially in the 26-35 age group.\n",
    "- Most purchases are made by married women, indicating high purchasing power in this segment.\n",
    "- Top contributing states for orders and sales are Uttar Pradesh, Maharashtra, and Karnataka.\n",
    "- IT, Healthcare, and Aviation professionals are the most active buyers.\n",
    "- Food, Clothing, and Electronics are the most popular product categories.\n",
    "- The top 10 products by sales are dominated by essential and frequently used items.\n",
    "\n",
    "### Business Recommendations:\n",
    "- Focus marketing efforts on female customers aged 26-35, especially in top-performing states.\n",
    "- Stock popular categories (Food, Clothing, Electronics) and top-selling products in higher quantities during festive seasons.\n",
    "- Target married women and professionals in IT, Healthcare, and Aviation for personalized offers.\n",
    "- Use insights from state and occupation analysis to optimize inventory and regional promotions.\n",
    "\n",
    "For more details and code, visit the [complete project on GitHub](https://github.com/MkSingh431/Python_Diwali_Sales_Analysis).\n",
    "\n",
    "Thank you!"
   ]
  },
  {
   "cell_type": "markdown",
   "id": "dd5922eb",
   "metadata": {},
   "source": [
    "# Tips Data Analysis Report\n",
    "This section demonstrates a full data analysis workflow for the classic tips dataset using pandas, numpy, seaborn, matplotlib, and plotly. Each plot is followed by an interpretation suitable for inclusion in a report."
   ]
  },
  {
   "cell_type": "code",
   "execution_count": 61,
   "id": "f9218dc9",
   "metadata": {},
   "outputs": [],
   "source": [
    "# Install required libraries if needed\n",
    "# !pip install statsmodels scipy plotly\n",
    "import pandas as pd\n",
    "import numpy as np\n",
    "import seaborn as sns\n",
    "import matplotlib.pyplot as plt\n",
    "import plotly.express as px\n",
    "from scipy import stats\n",
    "import statsmodels.api as sm\n",
    "\n",
    "# Load the tips dataset\n",
    "df = sns.load_dataset('tips')"
   ]
  },
  {
   "cell_type": "markdown",
   "id": "fd647cff",
   "metadata": {},
   "source": [
    "## 1. Data Composition Report\n",
    "- **Shape:**\n",
    "- **Columns:**\n",
    "- **Data Types:**\n",
    "- **Missing Values:**\n",
    "- **Basic Statistics:**"
   ]
  },
  {
   "cell_type": "code",
   "execution_count": 62,
   "id": "fc1e54b2",
   "metadata": {},
   "outputs": [
    {
     "name": "stdout",
     "output_type": "stream",
     "text": [
      "Shape: (244, 7)\n",
      "Columns: ['total_bill', 'tip', 'sex', 'smoker', 'day', 'time', 'size']\n",
      "Data Types: total_bill     float64\n",
      "tip            float64\n",
      "sex           category\n",
      "smoker        category\n",
      "day           category\n",
      "time          category\n",
      "size             int64\n",
      "dtype: object\n",
      "Missing Values: total_bill    0\n",
      "tip           0\n",
      "sex           0\n",
      "smoker        0\n",
      "day           0\n",
      "time          0\n",
      "size          0\n",
      "dtype: int64\n"
     ]
    },
    {
     "data": {
      "application/vnd.microsoft.datawrangler.viewer.v0+json": {
       "columns": [
        {
         "name": "index",
         "rawType": "object",
         "type": "string"
        },
        {
         "name": "total_bill",
         "rawType": "float64",
         "type": "float"
        },
        {
         "name": "tip",
         "rawType": "float64",
         "type": "float"
        },
        {
         "name": "size",
         "rawType": "float64",
         "type": "float"
        }
       ],
       "ref": "c5dd50ae-f5f3-4ad7-b9a8-0d1aff2ef3f1",
       "rows": [
        [
         "count",
         "244.0",
         "244.0",
         "244.0"
        ],
        [
         "mean",
         "19.78594262295082",
         "2.99827868852459",
         "2.569672131147541"
        ],
        [
         "std",
         "8.902411954856856",
         "1.3836381890011822",
         "0.9510998047322344"
        ],
        [
         "min",
         "3.07",
         "1.0",
         "1.0"
        ],
        [
         "25%",
         "13.3475",
         "2.0",
         "2.0"
        ],
        [
         "50%",
         "17.795",
         "2.9",
         "2.0"
        ],
        [
         "75%",
         "24.127499999999998",
         "3.5625",
         "3.0"
        ],
        [
         "max",
         "50.81",
         "10.0",
         "6.0"
        ]
       ],
       "shape": {
        "columns": 3,
        "rows": 8
       }
      },
      "text/html": [
       "<div>\n",
       "<style scoped>\n",
       "    .dataframe tbody tr th:only-of-type {\n",
       "        vertical-align: middle;\n",
       "    }\n",
       "\n",
       "    .dataframe tbody tr th {\n",
       "        vertical-align: top;\n",
       "    }\n",
       "\n",
       "    .dataframe thead th {\n",
       "        text-align: right;\n",
       "    }\n",
       "</style>\n",
       "<table border=\"1\" class=\"dataframe\">\n",
       "  <thead>\n",
       "    <tr style=\"text-align: right;\">\n",
       "      <th></th>\n",
       "      <th>total_bill</th>\n",
       "      <th>tip</th>\n",
       "      <th>size</th>\n",
       "    </tr>\n",
       "  </thead>\n",
       "  <tbody>\n",
       "    <tr>\n",
       "      <th>count</th>\n",
       "      <td>244.000000</td>\n",
       "      <td>244.000000</td>\n",
       "      <td>244.000000</td>\n",
       "    </tr>\n",
       "    <tr>\n",
       "      <th>mean</th>\n",
       "      <td>19.785943</td>\n",
       "      <td>2.998279</td>\n",
       "      <td>2.569672</td>\n",
       "    </tr>\n",
       "    <tr>\n",
       "      <th>std</th>\n",
       "      <td>8.902412</td>\n",
       "      <td>1.383638</td>\n",
       "      <td>0.951100</td>\n",
       "    </tr>\n",
       "    <tr>\n",
       "      <th>min</th>\n",
       "      <td>3.070000</td>\n",
       "      <td>1.000000</td>\n",
       "      <td>1.000000</td>\n",
       "    </tr>\n",
       "    <tr>\n",
       "      <th>25%</th>\n",
       "      <td>13.347500</td>\n",
       "      <td>2.000000</td>\n",
       "      <td>2.000000</td>\n",
       "    </tr>\n",
       "    <tr>\n",
       "      <th>50%</th>\n",
       "      <td>17.795000</td>\n",
       "      <td>2.900000</td>\n",
       "      <td>2.000000</td>\n",
       "    </tr>\n",
       "    <tr>\n",
       "      <th>75%</th>\n",
       "      <td>24.127500</td>\n",
       "      <td>3.562500</td>\n",
       "      <td>3.000000</td>\n",
       "    </tr>\n",
       "    <tr>\n",
       "      <th>max</th>\n",
       "      <td>50.810000</td>\n",
       "      <td>10.000000</td>\n",
       "      <td>6.000000</td>\n",
       "    </tr>\n",
       "  </tbody>\n",
       "</table>\n",
       "</div>"
      ],
      "text/plain": [
       "       total_bill         tip        size\n",
       "count  244.000000  244.000000  244.000000\n",
       "mean    19.785943    2.998279    2.569672\n",
       "std      8.902412    1.383638    0.951100\n",
       "min      3.070000    1.000000    1.000000\n",
       "25%     13.347500    2.000000    2.000000\n",
       "50%     17.795000    2.900000    2.000000\n",
       "75%     24.127500    3.562500    3.000000\n",
       "max     50.810000   10.000000    6.000000"
      ]
     },
     "metadata": {},
     "output_type": "display_data"
    }
   ],
   "source": [
    "print('Shape:', df.shape)\n",
    "print('Columns:', df.columns.tolist())\n",
    "print('Data Types:', df.dtypes)\n",
    "print('Missing Values:', df.isnull().sum())\n",
    "display(df.describe())"
   ]
  },
  {
   "cell_type": "markdown",
   "id": "1dff13fc",
   "metadata": {},
   "source": [
    "**Interpretation:**\n",
    "- The dataset contains information about restaurant bills, tips, and customer demographics.\n",
    "- No missing values are present. Numerical columns include `total_bill`, `tip`, and `size`."
   ]
  },
  {
   "cell_type": "markdown",
   "id": "15a56e6a",
   "metadata": {},
   "source": [
    "## 2. Data Distribution Report"
   ]
  },
  {
   "cell_type": "code",
   "execution_count": 63,
   "id": "b6836874",
   "metadata": {},
   "outputs": [
    {
     "data": {
      "image/png": "[encoded data removed]",
      "text/plain": [
       "<Figure size 1400x1000 with 4 Axes>"
      ]
     },
     "metadata": {},
     "output_type": "display_data"
    }
   ],
   "source": [
    "df['tip_pct'] = df['tip'] / df['total_bill'] * 100\n",
    "fig, axes = plt.subplots(2, 2, figsize=(14, 10))\n",
    "sns.histplot(df['total_bill'], kde=True, ax=axes[0,0])\n",
    "axes[0,0].set_title('Total Bill Distribution')\n",
    "sns.histplot(df['tip'], kde=True, ax=axes[0,1])\n",
    "axes[0,1].set_title('Tip Distribution')\n",
    "sns.histplot(df['size'], kde=True, ax=axes[1,0])\n",
    "axes[1,0].set_title('Party Size Distribution')\n",
    "sns.histplot(df['tip_pct'], kde=True, ax=axes[1,1])\n",
    "axes[1,1].set_title('Tip Percentage Distribution')\n",
    "plt.tight_layout()\n",
    "plt.show()"
   ]
  },
  {
   "cell_type": "markdown",
   "id": "0d29b74b",
   "metadata": {},
   "source": [
    "**Interpretation:**\n",
    "- Total bill and tip are right-skewed; most bills are between $10-20 and tips between $2-4.\n",
    "- Party size is most commonly 2.\n",
    "- Tip percentage is centered around 15-20%."
   ]
  },
  {
   "cell_type": "markdown",
   "id": "bd20e9c1",
   "metadata": {},
   "source": [
    "## 3. Data Comparison Report"
   ]
  },
  {
   "cell_type": "code",
   "execution_count": 64,
   "id": "f884e184",
   "metadata": {},
   "outputs": [
    {
     "data": {
      "image/png": "[encoded data removed]",
      "text/plain": [
       "<Figure size 1400x1000 with 4 Axes>"
      ]
     },
     "metadata": {},
     "output_type": "display_data"
    }
   ],
   "source": [
    "fig, axes = plt.subplots(2, 2, figsize=(14, 10))\n",
    "sns.boxplot(x='day', y='tip', data=df, ax=axes[0,0])\n",
    "axes[0,0].set_title('Tip by Day')\n",
    "sns.boxplot(x='time', y='tip', data=df, ax=axes[0,1])\n",
    "axes[0,1].set_title('Tip by Time')\n",
    "sns.boxplot(x='sex', y='tip', data=df, ax=axes[1,0])\n",
    "axes[1,0].set_title('Tip by Gender')\n",
    "sns.boxplot(x='smoker', y='tip', data=df, ax=axes[1,1])\n",
    "axes[1,1].set_title('Tip by Smoker Status')\n",
    "plt.tight_layout()\n",
    "plt.show()"
   ]
  },
  {
   "cell_type": "markdown",
   "id": "44c87bd6",
   "metadata": {},
   "source": [
    "**Interpretation:**\n",
    "- Dinner tips are higher than lunch tips.\n",
    "- Weekend days (Sat, Sun) show higher tips.\n",
    "- No significant difference in tips by gender or smoker status."
   ]
  },
  {
   "cell_type": "markdown",
   "id": "fc638ac9",
   "metadata": {},
   "source": [
    "## 4. Data Relationship Report"
   ]
  },
  {
   "cell_type": "code",
   "execution_count": 65,
   "id": "44f58b71",
   "metadata": {},
   "outputs": [
    {
     "data": {
      "image/png": "[encoded data removed]",
      "text/plain": [
       "<Figure size 2000x500 with 2 Axes>"
      ]
     },
     "metadata": {},
     "output_type": "display_data"
    },
    {
     "data": {
      "application/vnd.plotly.v1+json": {
       "config": {
        "plotlyServerURL": "https://plot.ly"
       },
       "data": [
        {
         "hovertemplate": "time=Dinner<br>total_bill=%{x}<br>tip=%{y}<extra></extra>",
         "legendgroup": "Dinner",
         "marker": {
          "color": "#636efa",
          "symbol": "circle"
         },
         "mode": "markers",
         "name": "Dinner",
         "orientation": "v",
         "showlegend": true,
         "type": "scatter",
         "x": [
          16.99,
          10.34,
          21.01,
          23.68,
          24.59,
          25.29,
          8.77,
          26.88,
          15.04,
          14.78,
          10.27,
          35.26,
          15.42,
          18.43,
          14.83,
          21.58,
          10.33,
          16.29,
          16.97,
          20.65,
          17.92,
          20.29,
          15.77,
          39.42,
          19.82,
          17.81,
          13.37,
          12.69,
          21.7,
          19.65,
          9.55,
          18.35,
          15.06,
          20.69,
          17.78,
          24.06,
          16.31,
          16.93,
          18.69,
          31.27,
          16.04,
          17.46,
          13.94,
          9.68,
          30.4,
          18.29,
          22.23,
          32.4,
          28.55,
          18.04,
          12.54,
          10.29,
          34.81,
          9.94,
          25.56,
          19.49,
          38.01,
          26.41,
          11.24,
          48.27,
          20.29,
          13.81,
          11.02,
          18.29,
          17.59,
          20.08,
          16.45,
          3.07,
          20.23,
          15.01,
          12.02,
          17.07,
          26.86,
          25.28,
          14.73,
          10.51,
          17.92,
          28.97,
          22.49,
          5.75,
          16.32,
          22.75,
          40.17,
          27.28,
          12.03,
          21.01,
          12.46,
          11.35,
          15.38,
          44.3,
          22.42,
          20.92,
          15.36,
          20.49,
          25.21,
          18.24,
          14.31,
          14,
          7.25,
          38.07,
          23.95,
          25.71,
          17.31,
          29.93,
          14.07,
          13.13,
          17.26,
          24.55,
          19.77,
          29.85,
          48.17,
          25,
          13.39,
          16.49,
          21.5,
          12.66,
          16.21,
          13.81,
          17.51,
          24.52,
          20.76,
          31.71,
          10.59,
          10.63,
          50.81,
          15.81,
          7.25,
          31.85,
          16.82,
          32.9,
          17.89,
          14.48,
          9.6,
          34.63,
          34.65,
          23.33,
          45.35,
          23.17,
          40.55,
          20.69,
          20.9,
          30.46,
          18.15,
          23.1,
          15.69,
          26.59,
          38.73,
          24.27,
          12.76,
          30.06,
          25.89,
          48.33,
          13.27,
          28.17,
          12.9,
          28.15,
          11.59,
          7.74,
          30.14,
          20.45,
          13.28,
          22.12,
          24.01,
          15.69,
          11.61,
          10.77,
          15.53,
          10.07,
          12.6,
          32.83,
          35.83,
          29.03,
          27.18,
          22.67,
          17.82,
          18.78
         ],
         "xaxis": "x",
         "y": [
          1.01,
          1.66,
          3.5,
          3.31,
          3.61,
          4.71,
          2,
          3.12,
          1.96,
          3.23,
          1.71,
          5,
          1.57,
          3,
          3.02,
          3.92,
          1.67,
          3.71,
          3.5,
          3.35,
          4.08,
          2.75,
          2.23,
          7.58,
          3.18,
          2.34,
          2,
          2,
          4.3,
          3,
          1.45,
          2.5,
          3,
          2.45,
          3.27,
          3.6,
          2,
          3.07,
          2.31,
          5,
          2.24,
          2.54,
          3.06,
          1.32,
          5.6,
          3,
          5,
          6,
          2.05,
          3,
          2.5,
          2.6,
          5.2,
          1.56,
          4.34,
          3.51,
          3,
          1.5,
          1.76,
          6.73,
          3.21,
          2,
          1.98,
          3.76,
          2.64,
          3.15,
          2.47,
          1,
          2.01,
          2.09,
          1.97,
          3,
          3.14,
          5,
          2.2,
          1.25,
          3.08,
          3,
          3.5,
          1,
          4.3,
          3.25,
          4.73,
          4,
          1.5,
          3,
          1.5,
          2.5,
          3,
          2.5,
          3.48,
          4.08,
          1.64,
          4.06,
          4.29,
          3.76,
          4,
          3,
          1,
          4,
          2.55,
          4,
          3.5,
          5.07,
          2.5,
          2,
          2.74,
          2,
          2,
          5.14,
          5,
          3.75,
          2.61,
          2,
          3.5,
          2.5,
          2,
          2,
          3,
          3.48,
          2.24,
          4.5,
          1.61,
          2,
          10,
          3.16,
          5.15,
          3.18,
          4,
          3.11,
          2,
          2,
          4,
          3.55,
          3.68,
          5.65,
          3.5,
          6.5,
          3,
          5,
          3.5,
          2,
          3.5,
          4,
          1.5,
          3.41,
          3,
          2.03,
          2.23,
          2,
          5.16,
          9,
          2.5,
          6.5,
          1.1,
          3,
          1.5,
          1.44,
          3.09,
          3,
          2.72,
          2.88,
          2,
          3,
          3.39,
          1.47,
          3,
          1.25,
          1,
          1.17,
          4.67,
          5.92,
          2,
          2,
          1.75,
          3
         ],
         "yaxis": "y"
        },
        {
         "hovertemplate": "<b>OLS trendline</b><br>tip = 0.0994262 * total_bill + 1.03489<br>R<sup>2</sup>=0.400526<br><br>time=Dinner<br>total_bill=%{x}<br>tip=%{y} <b>(trend)</b><extra></extra>",
         "legendgroup": "Dinner",
         "marker": {
          "color": "#636efa",
          "symbol": "circle"
         },
         "mode": "lines",
         "name": "Dinner",
         "showlegend": false,
         "type": "scatter",
         "x": [
          3.07,
          5.75,
          7.25,
          7.25,
          7.74,
          8.77,
          9.55,
          9.6,
          9.68,
          9.94,
          10.07,
          10.27,
          10.29,
          10.33,
          10.34,
          10.51,
          10.59,
          10.63,
          10.77,
          11.02,
          11.24,
          11.35,
          11.59,
          11.61,
          12.02,
          12.03,
          12.46,
          12.54,
          12.6,
          12.66,
          12.69,
          12.76,
          12.9,
          13.13,
          13.27,
          13.28,
          13.37,
          13.39,
          13.81,
          13.81,
          13.94,
          14,
          14.07,
          14.31,
          14.48,
          14.73,
          14.78,
          14.83,
          15.01,
          15.04,
          15.06,
          15.36,
          15.38,
          15.42,
          15.53,
          15.69,
          15.69,
          15.77,
          15.81,
          16.04,
          16.21,
          16.29,
          16.31,
          16.32,
          16.45,
          16.49,
          16.82,
          16.93,
          16.97,
          16.99,
          17.07,
          17.26,
          17.31,
          17.46,
          17.51,
          17.59,
          17.78,
          17.81,
          17.82,
          17.89,
          17.92,
          17.92,
          18.04,
          18.15,
          18.24,
          18.29,
          18.29,
          18.35,
          18.43,
          18.69,
          18.78,
          19.49,
          19.65,
          19.77,
          19.82,
          20.08,
          20.23,
          20.29,
          20.29,
          20.45,
          20.49,
          20.65,
          20.69,
          20.69,
          20.76,
          20.9,
          20.92,
          21.01,
          21.01,
          21.5,
          21.58,
          21.7,
          22.12,
          22.23,
          22.42,
          22.49,
          22.67,
          22.75,
          23.1,
          23.17,
          23.33,
          23.68,
          23.95,
          24.01,
          24.06,
          24.27,
          24.52,
          24.55,
          24.59,
          25,
          25.21,
          25.28,
          25.29,
          25.56,
          25.71,
          25.89,
          26.41,
          26.59,
          26.86,
          26.88,
          27.18,
          27.28,
          28.15,
          28.17,
          28.55,
          28.97,
          29.03,
          29.85,
          29.93,
          30.06,
          30.14,
          30.4,
          30.46,
          31.27,
          31.71,
          31.85,
          32.4,
          32.83,
          32.9,
          34.63,
          34.65,
          34.81,
          35.26,
          35.83,
          38.01,
          38.07,
          38.73,
          39.42,
          40.17,
          40.55,
          44.3,
          45.35,
          48.17,
          48.27,
          48.33,
          50.81
         ],
         "xaxis": "x",
         "y": [
          1.3401272483059916,
          1.6065893344472588,
          1.7557285617651321,
          1.7557285617651321,
          1.804447376022304,
          1.9068563121139106,
          1.9844087103192047,
          1.9893800178964671,
          1.997334110020087,
          2.0231849094218517,
          2.0361103091227344,
          2.055995539431784,
          2.0579840624626886,
          2.061961108524499,
          2.062955370039951,
          2.0798578158026437,
          2.0878119079262634,
          2.0917889539880736,
          2.105708615204408,
          2.1305651530907204,
          2.1524389064306755,
          2.163375783100653,
          2.187238059471513,
          2.1892265825024175,
          2.22999130463597,
          2.230985566151422,
          2.273738811315879,
          2.281692903439499,
          2.2876584725322138,
          2.2936240416249287,
          2.2966068261712866,
          2.303566656779454,
          2.3174863179957885,
          2.340354332851196,
          2.3542739940675306,
          2.355268255582983,
          2.364216609222056,
          2.3662051322529605,
          2.407964115901965,
          2.407964115901965,
          2.4208895156028474,
          2.4268550846955623,
          2.4338149153037296,
          2.4576771916745894,
          2.474579637437282,
          2.499436175323594,
          2.5044074829008567,
          2.5093787904781193,
          2.527275497756264,
          2.530258282302621,
          2.5322468053335268,
          2.562074650797101,
          2.564063173828006,
          2.568040219889816,
          2.578977096559793,
          2.5948852808070333,
          2.5948852808070333,
          2.602839372930653,
          2.606816418992463,
          2.62968443384787,
          2.6465868796105627,
          2.654540971734183,
          2.6565294947650875,
          2.65752375628054,
          2.670449155981422,
          2.6744262020432323,
          2.7072368320531646,
          2.7181737087231417,
          2.722150754784952,
          2.7241392778158566,
          2.7320933699394767,
          2.7509843387330744,
          2.755955646310336,
          2.770869569042124,
          2.7758408766193865,
          2.783794968743006,
          2.8026859375366033,
          2.805668722082961,
          2.8066629835984136,
          2.813622814206581,
          2.816605598752939,
          2.816605598752939,
          2.828536736938368,
          2.8394736136083454,
          2.848421967247418,
          2.8533932748246804,
          2.8533932748246804,
          2.859358843917396,
          2.8673129360410154,
          2.89316373544278,
          2.902112089081853,
          2.972704656678979,
          2.988612840926219,
          3.000543979111649,
          3.0055152866889117,
          3.031366086090676,
          3.0462800088224635,
          3.0522455779151785,
          3.0522455779151785,
          3.068153762162418,
          3.072130808224228,
          3.0880389924714677,
          3.092016038533278,
          3.092016038533278,
          3.0989758691414457,
          3.11289553035778,
          3.1148840533886855,
          3.123832407027758,
          3.123832407027758,
          3.1725512212849294,
          3.1805053134085495,
          3.1924364515939794,
          3.234195435242984,
          3.2451323119129616,
          3.264023280706559,
          3.270983111314726,
          3.288879818592871,
          3.2968339107164906,
          3.331633063757328,
          3.3385928943654957,
          3.354501078612735,
          3.3893002316535723,
          3.4161452925707896,
          3.4221108616635045,
          3.4270821692407667,
          3.447961661065269,
          3.472818198951581,
          3.475800983497939,
          3.479778029559749,
          3.5205427516933008,
          3.541422243517803,
          3.548382074125971,
          3.549376335641423,
          3.57622139655864,
          3.591135319290428,
          3.6090320265685727,
          3.660733625372102,
          3.6786303326502465,
          3.705475393567464,
          3.707463916598369,
          3.7372917620619437,
          3.7472343772164685,
          3.833735129060835,
          3.8357236520917404,
          3.8735055896789348,
          3.915264573327939,
          3.9212301424206544,
          4.002759586687759,
          4.010713678811378,
          4.023639078512261,
          4.0315931706358805,
          4.057443970037645,
          4.06340953913036,
          4.143944721882011,
          4.187692228561922,
          4.201611889778256,
          4.256296273128143,
          4.2990495182926,
          4.306009348900767,
          4.478016591074049,
          4.480005114104953,
          4.495913298352193,
          4.540655066547555,
          4.597327972928347,
          4.81407698329699,
          4.820042552389705,
          4.885663812409568,
          4.954267856975791,
          5.028837470634727,
          5.066619408221921,
          5.4394674765166044,
          5.543864935639117,
          5.824246682996719,
          5.834189298151244,
          5.8401548672439585,
          6.086731723076177
         ],
         "yaxis": "y"
        },
        {
         "hovertemplate": "time=Lunch<br>total_bill=%{x}<br>tip=%{y}<extra></extra>",
         "legendgroup": "Lunch",
         "marker": {
          "color": "#EF553B",
          "symbol": "circle"
         },
         "mode": "markers",
         "name": "Lunch",
         "orientation": "v",
         "showlegend": true,
         "type": "scatter",
         "x": [
          27.2,
          22.76,
          17.29,
          19.44,
          16.66,
          10.07,
          32.68,
          15.98,
          34.83,
          13.03,
          18.28,
          24.71,
          21.16,
          10.65,
          12.43,
          24.08,
          11.69,
          13.42,
          14.26,
          15.95,
          12.48,
          29.8,
          8.52,
          14.52,
          11.38,
          22.82,
          19.08,
          20.27,
          11.17,
          12.26,
          18.26,
          8.51,
          10.33,
          14.15,
          16,
          13.16,
          17.47,
          34.3,
          41.19,
          27.05,
          16.43,
          8.35,
          18.64,
          11.87,
          9.78,
          7.51,
          19.81,
          28.44,
          15.48,
          16.58,
          7.56,
          10.34,
          43.11,
          13,
          13.51,
          18.71,
          12.74,
          13,
          16.4,
          20.53,
          16.47,
          12.16,
          13.42,
          8.58,
          15.98,
          13.42,
          16.27,
          10.09
         ],
         "xaxis": "x",
         "y": [
          4,
          3,
          2.71,
          3,
          3.4,
          1.83,
          5,
          2.03,
          5.17,
          2,
          4,
          5.85,
          3,
          1.5,
          1.8,
          2.92,
          2.31,
          1.68,
          2.5,
          2,
          2.52,
          4.2,
          1.48,
          2,
          2,
          2.18,
          1.5,
          2.83,
          1.5,
          2,
          3.25,
          1.25,
          2,
          2,
          2,
          2.75,
          3.5,
          6.7,
          5,
          5,
          2.3,
          1.5,
          1.36,
          1.63,
          1.73,
          2,
          4.19,
          2.56,
          2.02,
          4,
          1.44,
          2,
          5,
          2,
          2,
          4,
          2.01,
          2,
          2.5,
          4,
          3.23,
          2.2,
          3.48,
          1.92,
          3,
          1.58,
          2.5,
          2
         ],
         "yaxis": "y"
        },
        {
         "hovertemplate": "<b>OLS trendline</b><br>tip = 0.125853 * total_bill + 0.567362<br>R<sup>2</sup>=0.648708<br><br>time=Lunch<br>total_bill=%{x}<br>tip=%{y} <b>(trend)</b><extra></extra>",
         "legendgroup": "Lunch",
         "marker": {
          "color": "#EF553B",
          "symbol": "circle"
         },
         "mode": "lines",
         "name": "Lunch",
         "showlegend": false,
         "type": "scatter",
         "x": [
          7.51,
          7.56,
          8.35,
          8.51,
          8.52,
          8.58,
          9.78,
          10.07,
          10.09,
          10.33,
          10.34,
          10.65,
          11.17,
          11.38,
          11.69,
          11.87,
          12.16,
          12.26,
          12.43,
          12.48,
          12.74,
          13,
          13,
          13.03,
          13.16,
          13.42,
          13.42,
          13.42,
          13.51,
          14.15,
          14.26,
          14.52,
          15.48,
          15.95,
          15.98,
          15.98,
          16,
          16.27,
          16.4,
          16.43,
          16.47,
          16.58,
          16.66,
          17.29,
          17.47,
          18.26,
          18.28,
          18.64,
          18.71,
          19.08,
          19.44,
          19.81,
          20.27,
          20.53,
          21.16,
          22.76,
          22.82,
          24.08,
          24.71,
          27.05,
          27.2,
          28.44,
          29.8,
          32.68,
          34.3,
          34.83,
          41.19,
          43.11
         ],
         "xaxis": "x",
         "y": [
          1.512516415258589,
          1.518809057028593,
          1.618232796994653,
          1.6383692506586651,
          1.6396277790126659,
          1.6471789491366704,
          1.7982023516167616,
          1.8346996738827837,
          1.8372167305907852,
          1.8674214110868035,
          1.8686799394408042,
          1.9076943184148278,
          1.9731377928228673,
          1.9995668882568833,
          2.0385812672309065,
          2.0612347776029205,
          2.097732099868942,
          2.11031738340895,
          2.1317123654269627,
          2.1380050071969667,
          2.1707267444009863,
          2.2034484816050064,
          2.2034484816050064,
          2.2072240666670084,
          2.2235849352690185,
          2.2563066724730385,
          2.2563066724730385,
          2.2563066724730385,
          2.267633427659045,
          2.348179242315094,
          2.362023054209102,
          2.394744791413122,
          2.5155635133971948,
          2.57471434603523,
          2.5784899310972325,
          2.5784899310972325,
          2.5810069878052344,
          2.614987253363255,
          2.6313481219652646,
          2.635123707027267,
          2.64015782044327,
          2.6540016323372777,
          2.6640698591692846,
          2.7433571454713324,
          2.7660106558433455,
          2.865434395809406,
          2.8679514525174072,
          2.9132584732614344,
          2.92206817173944,
          2.9686337208374676,
          3.0139407415814956,
          3.0605062906795233,
          3.1183985949635584,
          3.1511203321675785,
          3.230407618469626,
          3.4317721551097478,
          3.4393233252337527,
          3.597897897837848,
          3.677185184139896,
          3.9716808189760737,
          3.9905587442860853,
          4.14661626018218,
          4.317776116326282,
          4.680232282278501,
          4.884113875626625,
          4.950815878388664,
          5.751239911533148,
          5.992877355501294
         ],
         "yaxis": "y"
        }
       ],
       "layout": {
        "legend": {
         "title": {
          "text": "time"
         },
         "tracegroupgap": 0
        },
        "template": {
         "data": {
          "bar": [
           {
            "error_x": {
             "color": "#2a3f5f"
            },
            "error_y": {
             "color": "#2a3f5f"
            },
            "marker": {
             "line": {
              "color": "#E5ECF6",
              "width": 0.5
             },
             "pattern": {
              "fillmode": "overlay",
              "size": 10,
              "solidity": 0.2
             }
            },
            "type": "bar"
           }
          ],
          "barpolar": [
           {
            "marker": {
             "line": {
              "color": "#E5ECF6",
              "width": 0.5
             },
             "pattern": {
              "fillmode": "overlay",
              "size": 10,
              "solidity": 0.2
             }
            },
            "type": "barpolar"
           }
          ],
          "carpet": [
           {
            "aaxis": {
             "endlinecolor": "#2a3f5f",
             "gridcolor": "white",
             "linecolor": "white",
             "minorgridcolor": "white",
             "startlinecolor": "#2a3f5f"
            },
            "baxis": {
             "endlinecolor": "#2a3f5f",
             "gridcolor": "white",
             "linecolor": "white",
             "minorgridcolor": "white",
             "startlinecolor": "#2a3f5f"
            },
            "type": "carpet"
           }
          ],
          "choropleth": [
           {
            "colorbar": {
             "outlinewidth": 0,
             "ticks": ""
            },
            "type": "choropleth"
           }
          ],
          "contour": [
           {
            "colorbar": {
             "outlinewidth": 0,
             "ticks": ""
            },
            "colorscale": [
             [
              0,
              "#0d0887"
             ],
             [
              0.1111111111111111,
              "#46039f"
             ],
             [
              0.2222222222222222,
              "#7201a8"
             ],
             [
              0.3333333333333333,
              "#9c179e"
             ],
             [
              0.4444444444444444,
              "#bd3786"
             ],
             [
              0.5555555555555556,
              "#d8576b"
             ],
             [
              0.6666666666666666,
              "#ed7953"
             ],
             [
              0.7777777777777778,
              "#fb9f3a"
             ],
             [
              0.8888888888888888,
              "#fdca26"
             ],
             [
              1,
              "#f0f921"
             ]
            ],
            "type": "contour"
           }
          ],
          "contourcarpet": [
           {
            "colorbar": {
             "outlinewidth": 0,
             "ticks": ""
            },
            "type": "contourcarpet"
           }
          ],
          "heatmap": [
           {
            "colorbar": {
             "outlinewidth": 0,
             "ticks": ""
            },
            "colorscale": [
             [
              0,
              "#0d0887"
             ],
             [
              0.1111111111111111,
              "#46039f"
             ],
             [
              0.2222222222222222,
              "#7201a8"
             ],
             [
              0.3333333333333333,
              "#9c179e"
             ],
             [
              0.4444444444444444,
              "#bd3786"
             ],
             [
              0.5555555555555556,
              "#d8576b"
             ],
             [
              0.6666666666666666,
              "#ed7953"
             ],
             [
              0.7777777777777778,
              "#fb9f3a"
             ],
             [
              0.8888888888888888,
              "#fdca26"
             ],
             [
              1,
              "#f0f921"
             ]
            ],
            "type": "heatmap"
           }
          ],
          "heatmapgl": [
           {
            "colorbar": {
             "outlinewidth": 0,
             "ticks": ""
            },
            "colorscale": [
             [
              0,
              "#0d0887"
             ],
             [
              0.1111111111111111,
              "#46039f"
             ],
             [
              0.2222222222222222,
              "#7201a8"
             ],
             [
              0.3333333333333333,
              "#9c179e"
             ],
             [
              0.4444444444444444,
              "#bd3786"
             ],
             [
              0.5555555555555556,
              "#d8576b"
             ],
             [
              0.6666666666666666,
              "#ed7953"
             ],
             [
              0.7777777777777778,
              "#fb9f3a"
             ],
             [
              0.8888888888888888,
              "#fdca26"
             ],
             [
              1,
              "#f0f921"
             ]
            ],
            "type": "heatmapgl"
           }
          ],
          "histogram": [
           {
            "marker": {
             "pattern": {
              "fillmode": "overlay",
              "size": 10,
              "solidity": 0.2
             }
            },
            "type": "histogram"
           }
          ],
          "histogram2d": [
           {
            "colorbar": {
             "outlinewidth": 0,
             "ticks": ""
            },
            "colorscale": [
             [
              0,
              "#0d0887"
             ],
             [
              0.1111111111111111,
              "#46039f"
             ],
             [
              0.2222222222222222,
              "#7201a8"
             ],
             [
              0.3333333333333333,
              "#9c179e"
             ],
             [
              0.4444444444444444,
              "#bd3786"
             ],
             [
              0.5555555555555556,
              "#d8576b"
             ],
             [
              0.6666666666666666,
              "#ed7953"
             ],
             [
              0.7777777777777778,
              "#fb9f3a"
             ],
             [
              0.8888888888888888,
              "#fdca26"
             ],
             [
              1,
              "#f0f921"
             ]
            ],
            "type": "histogram2d"
           }
          ],
          "histogram2dcontour": [
           {
            "colorbar": {
             "outlinewidth": 0,
             "ticks": ""
            },
            "colorscale": [
             [
              0,
              "#0d0887"
             ],
             [
              0.1111111111111111,
              "#46039f"
             ],
             [
              0.2222222222222222,
              "#7201a8"
             ],
             [
              0.3333333333333333,
              "#9c179e"
             ],
             [
              0.4444444444444444,
              "#bd3786"
             ],
             [
              0.5555555555555556,
              "#d8576b"
             ],
             [
              0.6666666666666666,
              "#ed7953"
             ],
             [
              0.7777777777777778,
              "#fb9f3a"
             ],
             [
              0.8888888888888888,
              "#fdca26"
             ],
             [
              1,
              "#f0f921"
             ]
            ],
            "type": "histogram2dcontour"
           }
          ],
          "mesh3d": [
           {
            "colorbar": {
             "outlinewidth": 0,
             "ticks": ""
            },
            "type": "mesh3d"
           }
          ],
          "parcoords": [
           {
            "line": {
             "colorbar": {
              "outlinewidth": 0,
              "ticks": ""
             }
            },
            "type": "parcoords"
           }
          ],
          "pie": [
           {
            "automargin": true,
            "type": "pie"
           }
          ],
          "scatter": [
           {
            "fillpattern": {
             "fillmode": "overlay",
             "size": 10,
             "solidity": 0.2
            },
            "type": "scatter"
           }
          ],
          "scatter3d": [
           {
            "line": {
             "colorbar": {
              "outlinewidth": 0,
              "ticks": ""
             }
            },
            "marker": {
             "colorbar": {
              "outlinewidth": 0,
              "ticks": ""
             }
            },
            "type": "scatter3d"
           }
          ],
          "scattercarpet": [
           {
            "marker": {
             "colorbar": {
              "outlinewidth": 0,
              "ticks": ""
             }
            },
            "type": "scattercarpet"
           }
          ],
          "scattergeo": [
           {
            "marker": {
             "colorbar": {
              "outlinewidth": 0,
              "ticks": ""
             }
            },
            "type": "scattergeo"
           }
          ],
          "scattergl": [
           {
            "marker": {
             "colorbar": {
              "outlinewidth": 0,
              "ticks": ""
             }
            },
            "type": "scattergl"
           }
          ],
          "scattermapbox": [
           {
            "marker": {
             "colorbar": {
              "outlinewidth": 0,
              "ticks": ""
             }
            },
            "type": "scattermapbox"
           }
          ],
          "scatterpolar": [
           {
            "marker": {
             "colorbar": {
              "outlinewidth": 0,
              "ticks": ""
             }
            },
            "type": "scatterpolar"
           }
          ],
          "scatterpolargl": [
           {
            "marker": {
             "colorbar": {
              "outlinewidth": 0,
              "ticks": ""
             }
            },
            "type": "scatterpolargl"
           }
          ],
          "scatterternary": [
           {
            "marker": {
             "colorbar": {
              "outlinewidth": 0,
              "ticks": ""
             }
            },
            "type": "scatterternary"
           }
          ],
          "surface": [
           {
            "colorbar": {
             "outlinewidth": 0,
             "ticks": ""
            },
            "colorscale": [
             [
              0,
              "#0d0887"
             ],
             [
              0.1111111111111111,
              "#46039f"
             ],
             [
              0.2222222222222222,
              "#7201a8"
             ],
             [
              0.3333333333333333,
              "#9c179e"
             ],
             [
              0.4444444444444444,
              "#bd3786"
             ],
             [
              0.5555555555555556,
              "#d8576b"
             ],
             [
              0.6666666666666666,
              "#ed7953"
             ],
             [
              0.7777777777777778,
              "#fb9f3a"
             ],
             [
              0.8888888888888888,
              "#fdca26"
             ],
             [
              1,
              "#f0f921"
             ]
            ],
            "type": "surface"
           }
          ],
          "table": [
           {
            "cells": {
             "fill": {
              "color": "#EBF0F8"
             },
             "line": {
              "color": "white"
             }
            },
            "header": {
             "fill": {
              "color": "#C8D4E3"
             },
             "line": {
              "color": "white"
             }
            },
            "type": "table"
           }
          ]
         },
         "layout": {
          "annotationdefaults": {
           "arrowcolor": "#2a3f5f",
           "arrowhead": 0,
           "arrowwidth": 1
          },
          "autotypenumbers": "strict",
          "coloraxis": {
           "colorbar": {
            "outlinewidth": 0,
            "ticks": ""
           }
          },
          "colorscale": {
           "diverging": [
            [
             0,
             "#8e0152"
            ],
            [
             0.1,
             "#c51b7d"
            ],
            [
             0.2,
             "#de77ae"
            ],
            [
             0.3,
             "#f1b6da"
            ],
            [
             0.4,
             "#fde0ef"
            ],
            [
             0.5,
             "#f7f7f7"
            ],
            [
             0.6,
             "#e6f5d0"
            ],
            [
             0.7,
             "#b8e186"
            ],
            [
             0.8,
             "#7fbc41"
            ],
            [
             0.9,
             "#4d9221"
            ],
            [
             1,
             "#276419"
            ]
           ],
           "sequential": [
            [
             0,
             "#0d0887"
            ],
            [
             0.1111111111111111,
             "#46039f"
            ],
            [
             0.2222222222222222,
             "#7201a8"
            ],
            [
             0.3333333333333333,
             "#9c179e"
            ],
            [
             0.4444444444444444,
             "#bd3786"
            ],
            [
             0.5555555555555556,
             "#d8576b"
            ],
            [
             0.6666666666666666,
             "#ed7953"
            ],
            [
             0.7777777777777778,
             "#fb9f3a"
            ],
            [
             0.8888888888888888,
             "#fdca26"
            ],
            [
             1,
             "#f0f921"
            ]
           ],
           "sequentialminus": [
            [
             0,
             "#0d0887"
            ],
            [
             0.1111111111111111,
             "#46039f"
            ],
            [
             0.2222222222222222,
             "#7201a8"
            ],
            [
             0.3333333333333333,
             "#9c179e"
            ],
            [
             0.4444444444444444,
             "#bd3786"
            ],
            [
             0.5555555555555556,
             "#d8576b"
            ],
            [
             0.6666666666666666,
             "#ed7953"
            ],
            [
             0.7777777777777778,
             "#fb9f3a"
            ],
            [
             0.8888888888888888,
             "#fdca26"
            ],
            [
             1,
             "#f0f921"
            ]
           ]
          },
          "colorway": [
           "#636efa",
           "#EF553B",
           "#00cc96",
           "#ab63fa",
           "#FFA15A",
           "#19d3f3",
           "#FF6692",
           "#B6E880",
           "#FF97FF",
           "#FECB52"
          ],
          "font": {
           "color": "#2a3f5f"
          },
          "geo": {
           "bgcolor": "white",
           "lakecolor": "white",
           "landcolor": "#E5ECF6",
           "showlakes": true,
           "showland": true,
           "subunitcolor": "white"
          },
          "hoverlabel": {
           "align": "left"
          },
          "hovermode": "closest",
          "mapbox": {
           "style": "light"
          },
          "paper_bgcolor": "white",
          "plot_bgcolor": "#E5ECF6",
          "polar": {
           "angularaxis": {
            "gridcolor": "white",
            "linecolor": "white",
            "ticks": ""
           },
           "bgcolor": "#E5ECF6",
           "radialaxis": {
            "gridcolor": "white",
            "linecolor": "white",
            "ticks": ""
           }
          },
          "scene": {
           "xaxis": {
            "backgroundcolor": "#E5ECF6",
            "gridcolor": "white",
            "gridwidth": 2,
            "linecolor": "white",
            "showbackground": true,
            "ticks": "",
            "zerolinecolor": "white"
           },
           "yaxis": {
            "backgroundcolor": "#E5ECF6",
            "gridcolor": "white",
            "gridwidth": 2,
            "linecolor": "white",
            "showbackground": true,
            "ticks": "",
            "zerolinecolor": "white"
           },
           "zaxis": {
            "backgroundcolor": "#E5ECF6",
            "gridcolor": "white",
            "gridwidth": 2,
            "linecolor": "white",
            "showbackground": true,
            "ticks": "",
            "zerolinecolor": "white"
           }
          },
          "shapedefaults": {
           "line": {
            "color": "#2a3f5f"
           }
          },
          "ternary": {
           "aaxis": {
            "gridcolor": "white",
            "linecolor": "white",
            "ticks": ""
           },
           "baxis": {
            "gridcolor": "white",
            "linecolor": "white",
            "ticks": ""
           },
           "bgcolor": "#E5ECF6",
           "caxis": {
            "gridcolor": "white",
            "linecolor": "white",
            "ticks": ""
           }
          },
          "title": {
           "x": 0.05
          },
          "xaxis": {
           "automargin": true,
           "gridcolor": "white",
           "linecolor": "white",
           "ticks": "",
           "title": {
            "standoff": 15
           },
           "zerolinecolor": "white",
           "zerolinewidth": 2
          },
          "yaxis": {
           "automargin": true,
           "gridcolor": "white",
           "linecolor": "white",
           "ticks": "",
           "title": {
            "standoff": 15
           },
           "zerolinecolor": "white",
           "zerolinewidth": 2
          }
         }
        },
        "title": {
         "text": "Total Bill vs Tip"
        },
        "xaxis": {
         "anchor": "y",
         "domain": [
          0,
          1
         ],
         "title": {
          "text": "total_bill"
         }
        },
        "yaxis": {
         "anchor": "x",
         "domain": [
          0,
          1
         ],
         "title": {
          "text": "tip"
         }
        }
       }
      }
     },
     "metadata": {},
     "output_type": "display_data"
    }
   ],
   "source": [
    "corr = df[['total_bill', 'tip', 'size', 'tip_pct']].corr()\n",
    "sns.heatmap(corr, annot=True, cmap='coolwarm')\n",
    "plt.title('Correlation Matrix')\n",
    "plt.show()\n",
    "\n",
    "fig = px.scatter(df, x='total_bill', y='tip', color='time', trendline='ols', title='Total Bill vs Tip')\n",
    "fig.show()"
   ]
  },
  {
   "cell_type": "markdown",
   "id": "95de8022",
   "metadata": {},
   "source": [
    "**Interpretation:**\n",
    "- Strong positive correlation between total bill and tip.\n",
    "- Weak correlation between party size and tip percentage.\n",
    "- Scatter plot shows a linear relationship between bill and tip."
   ]
  },
  {
   "cell_type": "markdown",
   "id": "eb1f1cfc",
   "metadata": {},
   "source": [
    "## 5. Statistical Testing (Optional)"
   ]
  },
  {
   "cell_type": "code",
   "execution_count": 66,
   "id": "0247807d",
   "metadata": {},
   "outputs": [
    {
     "name": "stdout",
     "output_type": "stream",
     "text": [
      "Mann-Whitney U test p-value (smoker vs non-smoker): 0.7919\n"
     ]
    }
   ],
   "source": [
    "stat, p = stats.mannwhitneyu(df[df['smoker']=='Yes']['tip'], df[df['smoker']=='No']['tip'])\n",
    "print(f\"Mann-Whitney U test p-value (smoker vs non-smoker): {p:.4f}\")"
   ]
  },
  {
   "cell_type": "markdown",
   "id": "36d550b3",
   "metadata": {},
   "source": [
    "**Interpretation:**\n",
    "- If p < 0.05, there is a statistically significant difference in tips between smokers and non-smokers. Otherwise, there is no significant difference."
   ]
  }
 ],
 "metadata": {
  "kernelspec": {
   "display_name": "data_science",
   "language": "python",
   "name": "python3"
  },
  "language_info": {
   "codemirror_mode": {
    "name": "ipython",
    "version": 3
   },
   "file_extension": ".py",
   "mimetype": "text/x-python",
   "name": "python",
   "nbconvert_exporter": "python",
   "pygments_lexer": "ipython3",
   "version": "3.13.7"
  }
 },
 "nbformat": 4,
 "nbformat_minor": 5
}
